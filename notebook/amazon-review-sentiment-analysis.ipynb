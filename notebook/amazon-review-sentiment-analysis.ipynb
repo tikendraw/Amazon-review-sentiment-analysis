{
  "cells": [
    {
      "cell_type": "markdown",
      "metadata": {
        "colab_type": "text",
        "id": "view-in-github"
      },
      "source": [
        "<a href=\"https://colab.research.google.com/github/tikendraw/Amazon-review-sentiment-analysis/blob/main/amazon-review-sentiment-analysis.ipynb\" target=\"_parent\"><img src=\"https://colab.research.google.com/assets/colab-badge.svg\" alt=\"Open In Colab\"/></a>"
      ]
    },
    {
      "cell_type": "markdown",
      "id": "1c16cfc6",
      "metadata": {
        "id": "1c16cfc6"
      },
      "source": [
        "# Amazon Reviews for Sentiment Analysis"
      ]
    },
    {
      "cell_type": "markdown",
      "id": "3fac0c72",
      "metadata": {
        "id": "3fac0c72"
      },
      "source": [
        "## Objective\n",
        "\n",
        "Here we will be Building ML and DL models to predict the Polarity of reviews.\n",
        "We will be performing series of experiments with different models to achieve the best classification metrics.(while not abusing the machine we have)"
      ]
    },
    {
      "cell_type": "markdown",
      "id": "8ec49b73",
      "metadata": {
        "id": "8ec49b73"
      },
      "source": [
        "## About Dataset \n",
        "[Dataset here](https://www.kaggle.com/datasets/kritanjalijain/amazon-reviews)\n",
        "\n",
        "\n",
        "### OVERVIEW\n",
        "Contains 34,686,770 Amazon reviews from 6,643,669 users on 2,441,053 products, from the Stanford Network Analysis Project (SNAP). This subset contains 1,800,000 training samples and 200,000 testing samples in each polarity sentiment.\n",
        "\n",
        "### ORIGIN\n",
        "The Amazon reviews dataset consists of reviews from amazon. The data span a period of 18 years, including ~35 million reviews up to March 2013. Reviews include product and user information, ratings, and a plaintext review. For more information, please refer to the following paper: J. McAuley and J. Leskovec. Hidden factors and hidden topics: understanding rating dimensions with review text. RecSys, 2013.\n",
        "\n",
        "### DESCRIPTION\n",
        "The Amazon reviews polarity dataset is constructed by taking review score 1 and 2 as negative, and 4 and 5 as positive. Samples of score 3 is ignored. In the dataset, class 1 is the negative and class 2 is the positive. Each class has 1,800,000 training samples and 200,000 testing samples.\n",
        "\n",
        "If you need help extracting the train.csv and test.csv files check out the starter code.\n",
        "\n",
        "The files train.csv and test.csv contain all the training samples as comma-separated values.\n",
        "\n",
        "The CSVs contain polarity, title, text. These 3 columns in them, correspond to class index (1 or 2), review title and review text.\n",
        "\n",
        "polarity - 1 for negative and 2 for positive\n",
        "title - review heading\n",
        "text - review body\n",
        "The review title and text are escaped using double quotes (\"), and any internal double quote is escaped by 2 double quotes (\"\"). New lines are escaped by a backslash followed with an \"n\" character, that is \"\\n\"."
      ]
    },
    {
      "cell_type": "code",
      "execution_count": 1,
      "id": "29a25034",
      "metadata": {},
      "outputs": [],
      "source": [
        "# ! git clone https://github.com/tikendraw/funcyou.git -q\n",
        "# ! pip install funcyou/\n",
        "# ! rm -rf funcyou\n",
        "# ! pip install tensorflow_hub"
      ]
    },
    {
      "cell_type": "code",
      "execution_count": 2,
      "id": "3f06a868",
      "metadata": {
        "colab": {
          "base_uri": "https://localhost:8080/"
        },
        "id": "3f06a868",
        "outputId": "90ebc4d4-1f18-4230-8c47-43718619481a"
      },
      "outputs": [
        {
          "name": "stderr",
          "output_type": "stream",
          "text": [
            "2023-08-29 14:12:54.673073: I tensorflow/core/platform/cpu_feature_guard.cc:182] This TensorFlow binary is optimized to use available CPU instructions in performance-critical operations.\n",
            "To enable the following instructions: AVX2 FMA, in other operations, rebuild TensorFlow with the appropriate compiler flags.\n",
            "2023-08-29 14:12:56.391914: W tensorflow/compiler/tf2tensorrt/utils/py_utils.cc:38] TF-TRT Warning: Could not find TensorRT\n"
          ]
        },
        {
          "name": "stdout",
          "output_type": "stream",
          "text": [
            "Tf version:  2.12.1\n",
            "GPU:  0\n"
          ]
        },
        {
          "name": "stderr",
          "output_type": "stream",
          "text": [
            "2023-08-29 14:13:01.878057: I tensorflow/compiler/xla/stream_executor/cuda/cuda_gpu_executor.cc:996] successful NUMA node read from SysFS had negative value (-1), but there must be at least one NUMA node, so returning NUMA node zero. See more at https://github.com/torvalds/linux/blob/v6.0/Documentation/ABI/testing/sysfs-bus-pci#L344-L355\n",
            "2023-08-29 14:13:02.117084: W tensorflow/core/common_runtime/gpu/gpu_device.cc:1956] Cannot dlopen some GPU libraries. Please make sure the missing libraries mentioned above are installed properly if you would like to use GPU. Follow the guide at https://www.tensorflow.org/install/gpu for how to download and setup the required libraries for your platform.\n",
            "Skipping registering GPU devices...\n"
          ]
        }
      ],
      "source": [
        "import numpy as np\n",
        "import datetime\n",
        "import tensorflow as tf\n",
        "from tensorflow import keras\n",
        "from sklearn.naive_bayes import MultinomialNB\n",
        "from sklearn.model_selection import train_test_split\n",
        "from sklearn.feature_extraction.text import TfidfVectorizer\n",
        "from sklearn.pipeline import Pipeline\n",
        "from tensorflow.keras.layers import Embedding ,LSTM, Dense, Dropout, TextVectorization\n",
        "import matplotlib.pyplot as plt\n",
        "import polars as pl\n",
        "import tensorflow_hub as hub\n",
        "import os, re, json\n",
        "import tensorflow as tf\n",
        "#preprocessing functions to clear punctuations, lower strings, remove special chars removing contractions\n",
        "from funcyou.preprocessing.text import  text_cleaning_apos, cont_to_exp, text_cleaning\n",
        "import sys\n",
        "import pandas as pd\n",
        "from pathlib import Path\n",
        "import pickle\n",
        "import tarfile\n",
        "# importing useful functions\n",
        "from funcyou.sklearn.metrics import calculate_results\n",
        "from funcyou.plot import plot_history, compare_histories\n",
        "\n",
        "print('Tf version: ',tf.__version__)\n",
        "print('GPU: ',len(tf.config.list_physical_devices('GPU')))\n",
        "\n",
        "# os.environ['TF_CPP_MIN_LOG_LEVEL'] = '3' \n",
        "os.environ[\"TFHUB_CACHE_DIR\"] = './tmp/tfhub'\n",
        "\n",
        "\n",
        "use_url = 'https://storage.googleapis.com/tfhub-modules/google/universal-sentence-encoder/4.tar.gz'\n"
      ]
    },
    {
      "cell_type": "code",
      "execution_count": 3,
      "id": "97a5322b",
      "metadata": {},
      "outputs": [],
      "source": [
        "import numpy as np\n",
        "import random\n",
        "import tensorflow as tf\n",
        "import torch\n",
        "import pandas as pd\n",
        "from sklearn.utils import check_random_state\n",
        "import matplotlib.pyplot as plt\n",
        "import polars as pl"
      ]
    },
    {
      "cell_type": "code",
      "execution_count": 4,
      "id": "750e2f16",
      "metadata": {},
      "outputs": [],
      "source": [
        "def set_global_seed(seed):\n",
        "    np.random.seed(seed)\n",
        "    random.seed(seed)\n",
        "    tf.random.set_seed(seed)\n",
        "    global random_state\n",
        "    random_state = check_random_state(seed)\n",
        "\n",
        "\n",
        "# Set the seed value\n",
        "SEED = 42 # should be same as seed in config file\n",
        "\n",
        "# Call the function to set the seeds\n",
        "set_global_seed(SEED)\n"
      ]
    },
    {
      "cell_type": "code",
      "execution_count": 5,
      "id": "35cec4d3",
      "metadata": {},
      "outputs": [],
      "source": [
        "cur_dir = Path(os.getcwd())\n",
        "model_dir = Path(os.getcwd()).parent /'model'"
      ]
    },
    {
      "cell_type": "code",
      "execution_count": 6,
      "id": "db919e15",
      "metadata": {},
      "outputs": [
        {
          "data": {
            "text/plain": [
              "PosixPath('/home/t/aproject/Amazon-review-sentiment-analysis/dataset')"
            ]
          },
          "execution_count": 6,
          "metadata": {},
          "output_type": "execute_result"
        }
      ],
      "source": [
        "data_dir = Path(os.getcwd()).parent /'dataset'\n",
        "data_dir"
      ]
    },
    {
      "cell_type": "code",
      "execution_count": 7,
      "id": "BC3XPV5WtRQ7",
      "metadata": {
        "id": "BC3XPV5WtRQ7"
      },
      "outputs": [],
      "source": [
        "def download_USEncoder():\n",
        "\n",
        "    try:\n",
        "        print('downloading universal sentence encoder...')\n",
        "        use_filename = wget.download(use_url)\n",
        "\n",
        "        print('Downloaded!')\n",
        "        # Extracting\n",
        "        os.makedirs('universal_sentence_encoder', exist_ok = True)\n",
        "        print('Extracting universal sentence encoder....')\n",
        "        # open file\n",
        "        file = tarfile.open(use_filename)\n",
        "        \n",
        "        # extracting file\n",
        "        file.extractall('./universal_sentence_encoder')\n",
        "        \n",
        "        file.close()\n",
        "        print('Extracted.')\n",
        "    except Exception as e:\n",
        "        print(e)\n"
      ]
    },
    {
      "cell_type": "code",
      "execution_count": 8,
      "id": "00dd0bdb",
      "metadata": {
        "id": "00dd0bdb"
      },
      "outputs": [],
      "source": [
        "# Download the data if you don't have locally\n",
        "data_url = 'https://www.kaggle.com/datasets/kritanjalijain/amazon-reviews'\n",
        "\n",
        "def download_data(data_url):\n",
        "    download_kaggle_dataset(url = data_url)\n",
        "    print('Dataset Downloaded.')\n",
        "\n",
        "    import zipfile\n",
        "    with zipfile.ZipFile('./amazon-reviews.zip', 'r') as zip_ref:\n",
        "        zip_ref.extractall('./dataset')\n",
        "    print('Extracted.')\n",
        "\n",
        "\n"
      ]
    },
    {
      "cell_type": "code",
      "execution_count": 9,
      "id": "75178d33-5eca-4c81-9ccf-c0b97586e0c4",
      "metadata": {
        "colab": {
          "base_uri": "https://localhost:8080/"
        },
        "id": "75178d33-5eca-4c81-9ccf-c0b97586e0c4",
        "outputId": "37065c80-a6de-4a7d-edaf-395be886f372"
      },
      "outputs": [
        {
          "name": "stdout",
          "output_type": "stream",
          "text": [
            "Not running on CoLab\n"
          ]
        }
      ],
      "source": [
        "if 'google.colab' in str(get_ipython()):\n",
        "    print('Running on CoLab')\n",
        "    download_USEncoder()\n",
        "    download = input('Did you upload kaggle.json?(Yes/No) ')\n",
        "    if download in ['yes','Yes','Y','y']:\n",
        "        print('Dataset Downloading...')\n",
        "        download_data(data_url)\n",
        "    \n",
        "else:\n",
        "  print('Not running on CoLab')\n"
      ]
    },
    {
      "cell_type": "code",
      "execution_count": 10,
      "id": "7ddbeaf5",
      "metadata": {
        "id": "7ddbeaf5"
      },
      "outputs": [],
      "source": [
        "# embed = hub.KerasLayer(\"../universal_sentence_encoder\")"
      ]
    },
    {
      "cell_type": "markdown",
      "id": "a5b0fa02",
      "metadata": {
        "id": "a5b0fa02"
      },
      "source": [
        "# Load the data"
      ]
    },
    {
      "cell_type": "code",
      "execution_count": null,
      "id": "e7901a96",
      "metadata": {},
      "outputs": [],
      "source": []
    },
    {
      "cell_type": "code",
      "execution_count": 11,
      "id": "d2fc7d74",
      "metadata": {
        "id": "d2fc7d74"
      },
      "outputs": [],
      "source": [
        "#reading data\n",
        "# df = pl.read_csv(data_dir/'train.csv',new_columns = ['polarity', 'title','text'])  # gives TextFileReader, which is iterable with chunks of 1000 rows.\n"
      ]
    },
    {
      "cell_type": "code",
      "execution_count": 12,
      "id": "132384b1",
      "metadata": {},
      "outputs": [],
      "source": [
        "# df.describe()"
      ]
    },
    {
      "cell_type": "code",
      "execution_count": null,
      "id": "3a87cfd6",
      "metadata": {},
      "outputs": [],
      "source": []
    },
    {
      "cell_type": "code",
      "execution_count": 13,
      "id": "df962439",
      "metadata": {},
      "outputs": [],
      "source": [
        "# df.columns"
      ]
    },
    {
      "cell_type": "code",
      "execution_count": 14,
      "id": "uTCRDYo11pqM",
      "metadata": {
        "colab": {
          "base_uri": "https://localhost:8080/"
        },
        "id": "uTCRDYo11pqM",
        "outputId": "05bca519-39ee-4639-93c6-a24c4b792e38"
      },
      "outputs": [],
      "source": [
        "# print('Shape: ', df.shape)"
      ]
    },
    {
      "cell_type": "code",
      "execution_count": 15,
      "id": "Jsn520qsxj6C",
      "metadata": {
        "colab": {
          "base_uri": "https://localhost:8080/",
          "height": 121
        },
        "id": "Jsn520qsxj6C",
        "outputId": "390125e9-c9b9-47eb-b1f2-a6bd4f37e779"
      },
      "outputs": [],
      "source": [
        "# check for nulls and drop if any\n",
        "# df.null_count()"
      ]
    },
    {
      "cell_type": "code",
      "execution_count": 16,
      "id": "a0ml-HHdxvxo",
      "metadata": {
        "colab": {
          "base_uri": "https://localhost:8080/"
        },
        "id": "a0ml-HHdxvxo",
        "outputId": "91428af8-8d0f-4c45-924e-4f6a2aa6e590"
      },
      "outputs": [],
      "source": [
        "# #drop nulls\n",
        "# df.drop_nulls()\n",
        "# print()"
      ]
    },
    {
      "cell_type": "code",
      "execution_count": 17,
      "id": "yURUkKbf4HmS",
      "metadata": {
        "id": "yURUkKbf4HmS"
      },
      "outputs": [],
      "source": [
        "# df.to_pandas().isna().sum()"
      ]
    },
    {
      "cell_type": "code",
      "execution_count": 18,
      "id": "c672dec5",
      "metadata": {
        "colab": {
          "base_uri": "https://localhost:8080/",
          "height": 149
        },
        "id": "c672dec5",
        "outputId": "e6e0f56f-8e47-41b2-da16-03538d590fd5"
      },
      "outputs": [],
      "source": [
        "# checking for classs imbalance\n",
        "# df['polarity'].value_counts()"
      ]
    },
    {
      "cell_type": "markdown",
      "id": "13db8966",
      "metadata": {
        "id": "13db8966"
      },
      "source": [
        "**Note:** The dataset is fairly large, we will use tensorflow's data api to load and handle the data"
      ]
    },
    {
      "cell_type": "markdown",
      "id": "c168d8cf",
      "metadata": {
        "id": "c168d8cf"
      },
      "source": [
        "# We will map the polarity between 0 for negative sentiment to 1 for positive sentiment"
      ]
    },
    {
      "cell_type": "code",
      "execution_count": 19,
      "id": "f5cac18d",
      "metadata": {
        "id": "f5cac18d"
      },
      "outputs": [],
      "source": [
        "# df = df.with_columns([\n",
        "#                     pl.col('polarity').apply(lambda x: 0 if x == 1 else 1).alias('polarity')\n",
        "#                      ])\n",
        "\n",
        "# df = df.with_columns([\n",
        "#                      pl.col('polarity').cast(pl.Int16, strict=False).alias('polarity')\n",
        "#                      ])\n"
      ]
    },
    {
      "cell_type": "code",
      "execution_count": 20,
      "id": "be973a53",
      "metadata": {
        "colab": {
          "base_uri": "https://localhost:8080/",
          "height": 367
        },
        "id": "be973a53",
        "outputId": "67ad11be-32b6-42b9-f642-9ba078fd2a6e"
      },
      "outputs": [],
      "source": [
        "# df.sample(10)"
      ]
    },
    {
      "cell_type": "code",
      "execution_count": null,
      "id": "7c4ac022",
      "metadata": {},
      "outputs": [],
      "source": []
    },
    {
      "cell_type": "markdown",
      "id": "de08710a",
      "metadata": {
        "id": "de08710a"
      },
      "source": [
        "## Note: We will be combining text and title columns . makes more sense."
      ]
    },
    {
      "cell_type": "code",
      "execution_count": 21,
      "id": "ed998b41",
      "metadata": {},
      "outputs": [],
      "source": [
        "import seaborn as sns\n",
        "from collections import Counter\n",
        "import polars as pl\n",
        "import re\n",
        "from concurrent.futures import ThreadPoolExecutor\n",
        "from functools import partial\n",
        "from funcyou.preprocessing.text import IntegerVectorizer\n",
        "from funcyou.plot import distplot_axis"
      ]
    },
    {
      "cell_type": "code",
      "execution_count": null,
      "id": "cfa3949d",
      "metadata": {
        "id": "cfa3949d"
      },
      "outputs": [],
      "source": []
    },
    {
      "cell_type": "code",
      "execution_count": 22,
      "id": "26892e90",
      "metadata": {
        "colab": {
          "base_uri": "https://localhost:8080/"
        },
        "id": "26892e90",
        "outputId": "e6e03dab-7ec5-43c1-e5ba-02d7684167c3"
      },
      "outputs": [],
      "source": [
        "# df = df.with_columns([\n",
        "#     (pl.col('title')+' ' + pl.col('text')).alias('review')\n",
        "# ])\n",
        "\n",
        "# df = df.with_columns([\n",
        "#     pl.col('review').str.to_lowercase()\n",
        "# ])\n"
      ]
    },
    {
      "cell_type": "code",
      "execution_count": 23,
      "id": "9f9586d2",
      "metadata": {},
      "outputs": [],
      "source": [
        "# df = df.with_columns([\n",
        "#     pl.col('title').apply(lambda x: len(str(x).split())).alias('title_len'),\n",
        "# ])\n",
        "\n",
        "# df = df.with_columns([\n",
        "#     pl.col('text').apply(lambda x: len(str(x).split())).alias('text_len'),\n",
        "# ])\n",
        "\n",
        "# df = df.with_columns([\n",
        "#     pl.col('review').apply(lambda x: len(str(x).split())).alias('review_len')\n",
        "# ])\n"
      ]
    },
    {
      "cell_type": "code",
      "execution_count": 24,
      "id": "67550271",
      "metadata": {},
      "outputs": [],
      "source": [
        "def clean_text(x: str) -> str:\n",
        "    return re.sub(r'[^\\w\\s]', ' ', x.lower())  # Remove punctuation after lowring\n"
      ]
    },
    {
      "cell_type": "code",
      "execution_count": 25,
      "id": "5d86a82a",
      "metadata": {},
      "outputs": [],
      "source": [
        "\n",
        "# plt.figure(figsize=(15,5))\n",
        "# distplot_axis(df['title_len'].to_numpy())\n",
        "\n",
        "# plt.figure(figsize=(15,5))\n",
        "# distplot_axis(df['text_len'].to_numpy())\n",
        "\n",
        "# plt.figure(figsize=(15,5))\n",
        "# distplot_axis(df['review_len'].to_numpy())"
      ]
    },
    {
      "cell_type": "code",
      "execution_count": 26,
      "id": "419c7412",
      "metadata": {
        "colab": {
          "base_uri": "https://localhost:8080/",
          "height": 367
        },
        "id": "419c7412",
        "outputId": "e197ea07-167a-440f-ddd2-820b1800cae0"
      },
      "outputs": [],
      "source": [
        "# df = df.select(['review', 'polarity'])"
      ]
    },
    {
      "cell_type": "code",
      "execution_count": 27,
      "id": "e0aca943",
      "metadata": {},
      "outputs": [],
      "source": [
        "# df.head()"
      ]
    },
    {
      "cell_type": "code",
      "execution_count": null,
      "id": "74e3cc9f",
      "metadata": {},
      "outputs": [],
      "source": []
    },
    {
      "cell_type": "code",
      "execution_count": 28,
      "id": "42e83585",
      "metadata": {},
      "outputs": [],
      "source": [
        "# # %%time\n",
        "# # Define a function to count words in a chunk\n",
        "# def count_words(x:pl.Series):\n",
        "#     \"\"\"Count the number of times each word appears.\"\"\"\n",
        "#     # if the given dataframe is pandas convert it to polars dataframe\n",
        "#     word_counts = {}\n",
        "#     for chunk in next(x.get_chunks().__iter__()):\n",
        "#         words = str(chunk).lower().split()\n",
        "#         for word in words:\n",
        "#             word_counts[word] = word_counts.get(word, 0) + 1\n",
        "#     return word_counts\n",
        "\n",
        "# # Define the number of threads to use for parallel processing\n",
        "# num_threads = 4\n",
        "\n",
        "# # Process chunks in parallel using ThreadPoolExecutor\n",
        "# word_count_results = []\n",
        "# with ThreadPoolExecutor(max_workers=num_threads) as executor:\n",
        "#     word_count_results = list(executor.map(count_words, df['review']))\n",
        "\n",
        "# # Merge word count results from all chunks\n",
        "# final_word_counts = {}\n",
        "# for result in word_count_results:\n",
        "#     for word, count in result.items():\n",
        "#         final_word_counts[word] = final_word_counts.get(word, 0) + count\n",
        "\n",
        "# # Convert the final word count dictionary to a Polars DataFrame\n",
        "# word_count_df = pl.DataFrame({\n",
        "#     'word': list(final_word_counts.keys()),\n",
        "#     'count': list(final_word_counts.values())\n",
        "# })\n",
        "\n",
        "\n",
        "# # Display the top words and their counts\n",
        "# print(word_count_df.head(10))"
      ]
    },
    {
      "cell_type": "code",
      "execution_count": 29,
      "id": "5a53b44a",
      "metadata": {},
      "outputs": [],
      "source": [
        "# word_count_df.sort('count',descending=True)"
      ]
    },
    {
      "cell_type": "code",
      "execution_count": null,
      "id": "607e9be0",
      "metadata": {},
      "outputs": [],
      "source": []
    },
    {
      "cell_type": "code",
      "execution_count": 30,
      "id": "3051a5dc",
      "metadata": {},
      "outputs": [],
      "source": [
        "counter_object_filepath = model_dir / 'counter.pkl'"
      ]
    },
    {
      "cell_type": "code",
      "execution_count": 31,
      "id": "bc8c952a",
      "metadata": {},
      "outputs": [],
      "source": [
        "# a = IntegerVectorizer(preprocessing_func=clean_text, min_freq=2) # 5 min\n",
        "# a.adapt(df['review'])\n",
        "\n",
        "# # save the counter object\n",
        "# counter_object = a.vocab.counter\n",
        "\n",
        "# with open(counter_object_filepath, 'wb') as output_file:\n",
        "#     pickle.dump(counter_object, output_file)\n",
        "#     print('file saved at',counter_object_filepath)"
      ]
    },
    {
      "cell_type": "code",
      "execution_count": 32,
      "id": "46830b95",
      "metadata": {},
      "outputs": [],
      "source": [
        "with open(counter_object_filepath, 'rb') as output_file:\n",
        "    counter_object = pickle.load(output_file)"
      ]
    },
    {
      "cell_type": "code",
      "execution_count": 33,
      "id": "23ab7ccb",
      "metadata": {},
      "outputs": [],
      "source": [
        "# df.write_csv(data_dir / 'preprocessed_df.csv')"
      ]
    },
    {
      "cell_type": "code",
      "execution_count": 34,
      "id": "ef9509d5",
      "metadata": {},
      "outputs": [
        {
          "data": {
            "text/html": [
              "<div><style>\n",
              ".dataframe > thead > tr > th,\n",
              ".dataframe > tbody > tr > td {\n",
              "  text-align: right;\n",
              "}\n",
              "</style>\n",
              "<small>shape: (5, 2)</small><table border=\"1\" class=\"dataframe\"><thead><tr><th>review</th><th>polarity</th></tr><tr><td>str</td><td>i64</td></tr></thead><tbody><tr><td>&quot;the best sound…</td><td>1</td></tr><tr><td>&quot;amazing! this …</td><td>1</td></tr><tr><td>&quot;excellent soun…</td><td>1</td></tr><tr><td>&quot;remember, pull…</td><td>1</td></tr><tr><td>&quot;an absolute ma…</td><td>1</td></tr></tbody></table></div>"
            ],
            "text/plain": [
              "shape: (5, 2)\n",
              "┌───────────────────────────────────┬──────────┐\n",
              "│ review                            ┆ polarity │\n",
              "│ ---                               ┆ ---      │\n",
              "│ str                               ┆ i64      │\n",
              "╞═══════════════════════════════════╪══════════╡\n",
              "│ the best soundtrack ever to anyt… ┆ 1        │\n",
              "│ amazing! this soundtrack is my f… ┆ 1        │\n",
              "│ excellent soundtrack i truly lik… ┆ 1        │\n",
              "│ remember, pull your jaw off the … ┆ 1        │\n",
              "│ an absolute masterpiece i am qui… ┆ 1        │\n",
              "└───────────────────────────────────┴──────────┘"
            ]
          },
          "execution_count": 34,
          "metadata": {},
          "output_type": "execute_result"
        }
      ],
      "source": [
        "df = pl.read_csv(data_dir/'preprocessed_df.csv')\n",
        "df.head()"
      ]
    },
    {
      "cell_type": "code",
      "execution_count": 35,
      "id": "719ae47c",
      "metadata": {},
      "outputs": [
        {
          "name": "stdout",
          "output_type": "stream",
          "text": [
            "                counter_object: 29.3 MiB\n",
            "                 MultinomialNB:  1.6 KiB\n",
            "               TfidfVectorizer:  1.6 KiB\n",
            "                      Pipeline:  1.6 KiB\n",
            "                     Embedding:  1.6 KiB\n",
            "                          LSTM:  1.6 KiB\n",
            "                         Dense:  1.6 KiB\n",
            "                       Dropout:  1.6 KiB\n",
            "             TextVectorization:  1.6 KiB\n",
            "                       Counter:  1.6 KiB\n"
          ]
        }
      ],
      "source": [
        "import sys\n",
        "def sizeof_fmt(num, suffix='B'):\n",
        "    ''' by Fred Cirera,  https://stackoverflow.com/a/1094933/1870254, modified'''\n",
        "    for unit in ['','Ki','Mi','Gi','Ti','Pi','Ei','Zi']:\n",
        "        if abs(num) < 1024.0:\n",
        "            return \"%3.1f %s%s\" % (num, unit, suffix)\n",
        "        num /= 1024.0\n",
        "    return \"%.1f %s%s\" % (num, 'Yi', suffix)\n",
        "\n",
        "for name, size in sorted(((name, sys.getsizeof(value)) for name, value in list(\n",
        "                          locals().items())), key= lambda x: -x[1], reverse = False)[:10]:\n",
        "    print(\"{:>30}: {:>8}\".format(name, sizeof_fmt(size)))"
      ]
    },
    {
      "cell_type": "markdown",
      "id": "9ec6ee32",
      "metadata": {},
      "source": [
        "# Text vectorization"
      ]
    },
    {
      "cell_type": "code",
      "execution_count": 36,
      "id": "e6f6c05a",
      "metadata": {},
      "outputs": [],
      "source": [
        "MAX_TOKEN = 300_000\n",
        "OUTPUT_SEQUENCE_LENGTH = 175  # limiting reviews to 200 words"
      ]
    },
    {
      "cell_type": "code",
      "execution_count": 37,
      "id": "1771469a",
      "metadata": {},
      "outputs": [],
      "source": [
        "text_vectorizer = TextVectorization(max_tokens=MAX_TOKEN, standardize='lower_and_strip_punctuation',\n",
        "                                   split='whitespace',\n",
        "                                    ngrams= None ,\n",
        "                                    output_mode='int',\n",
        "                                    output_sequence_length=OUTPUT_SEQUENCE_LENGTH, \n",
        "                                    pad_to_max_tokens=True,\n",
        "                                    vocabulary = list(counter_object.keys())[:MAX_TOKEN-2]) # -2 FOR 'PAD' AND 'UNK' TOKEN"
      ]
    },
    {
      "cell_type": "code",
      "execution_count": null,
      "id": "783487ad",
      "metadata": {},
      "outputs": [],
      "source": []
    },
    {
      "cell_type": "code",
      "execution_count": 38,
      "id": "1f9708f5",
      "metadata": {},
      "outputs": [],
      "source": [
        "random_review = 'WHo the duck are you?'"
      ]
    },
    {
      "cell_type": "code",
      "execution_count": 39,
      "id": "489427a3",
      "metadata": {},
      "outputs": [],
      "source": [
        "word_to_id = tf.keras.layers.StringLookup(vocabulary=text_vectorizer.get_vocabulary(), mask_token='', oov_token='[UNK]')\n",
        "id_to_word = tf.keras.layers.StringLookup(vocabulary=text_vectorizer.get_vocabulary(), mask_token='', oov_token='[UNK]', invert=True)"
      ]
    },
    {
      "cell_type": "code",
      "execution_count": 40,
      "id": "336021c9",
      "metadata": {},
      "outputs": [
        {
          "name": "stdout",
          "output_type": "stream",
          "text": [
            "random Review:  WHo the duck are you?\n",
            "random Review length:  21\n",
            "-------\n",
            "\n",
            "vectorized review:  tf.Tensor(\n",
            "[[  92    2 8278   58   57    0    0    0    0    0    0    0    0    0\n",
            "     0    0    0    0    0    0    0    0    0    0    0    0    0    0\n",
            "     0    0    0    0    0    0    0    0    0    0    0    0    0    0\n",
            "     0    0    0    0    0    0    0    0    0    0    0    0    0    0\n",
            "     0    0    0    0    0    0    0    0    0    0    0    0    0    0\n",
            "     0    0    0    0    0    0    0    0    0    0    0    0    0    0\n",
            "     0    0    0    0    0    0    0    0    0    0    0    0    0    0\n",
            "     0    0    0    0    0    0    0    0    0    0    0    0    0    0\n",
            "     0    0    0    0    0    0    0    0    0    0    0    0    0    0\n",
            "     0    0    0    0    0    0    0    0    0    0    0    0    0    0\n",
            "     0    0    0    0    0    0    0    0    0    0    0    0    0    0\n",
            "     0    0    0    0    0    0    0    0    0    0    0    0    0    0\n",
            "     0    0    0    0    0    0    0]], shape=(1, 175), dtype=int64)\n",
            "Reverse vectorized review:  tf.Tensor(\n",
            "[[b'who' b'the' b'duck' b'are' b'you' b'' b'' b'' b'' b'' b'' b'' b'' b''\n",
            "  b'' b'' b'' b'' b'' b'' b'' b'' b'' b'' b'' b'' b'' b'' b'' b'' b'' b''\n",
            "  b'' b'' b'' b'' b'' b'' b'' b'' b'' b'' b'' b'' b'' b'' b'' b'' b'' b''\n",
            "  b'' b'' b'' b'' b'' b'' b'' b'' b'' b'' b'' b'' b'' b'' b'' b'' b'' b''\n",
            "  b'' b'' b'' b'' b'' b'' b'' b'' b'' b'' b'' b'' b'' b'' b'' b'' b'' b''\n",
            "  b'' b'' b'' b'' b'' b'' b'' b'' b'' b'' b'' b'' b'' b'' b'' b'' b'' b''\n",
            "  b'' b'' b'' b'' b'' b'' b'' b'' b'' b'' b'' b'' b'' b'' b'' b'' b'' b''\n",
            "  b'' b'' b'' b'' b'' b'' b'' b'' b'' b'' b'' b'' b'' b'' b'' b'' b'' b''\n",
            "  b'' b'' b'' b'' b'' b'' b'' b'' b'' b'' b'' b'' b'' b'' b'' b'' b'' b''\n",
            "  b'' b'' b'' b'' b'' b'' b'' b'' b'' b'' b'' b'' b'' b'' b'' b'' b'']], shape=(1, 175), dtype=string)\n",
            "-------\n",
            "\n",
            "Vocabulary_length:  500000\n",
            "Most frequent words:  ['', '[UNK]', 'the', 'best', 'soundtrack', 'ever', 'to', 'anything', 'i', 'm']\n",
            "least frequent words:  ['go440', 'dabrowski', 'expensiveonce', 'moodified', 'drev', 'lasrs', 'laswers', 'crewcab', 'insatpark', 'instapark']\n"
          ]
        }
      ],
      "source": [
        "print('random Review: ', random_review)\n",
        "print('random Review length: ', len(random_review))\n",
        "print('-------\\n')\n",
        "print('vectorized review: ',text_vectorizer([random_review]))\n",
        "\n",
        "print('Reverse vectorized review: ',id_to_word(text_vectorizer([random_review])))\n",
        "\n",
        "\n",
        "print('-------\\n')\n",
        "print('Vocabulary_length: ',len(text_vectorizer.get_vocabulary()))\n",
        "print('Most frequent words: ',text_vectorizer.get_vocabulary()[:10])\n",
        "print('least frequent words: ',text_vectorizer.get_vocabulary()[-10:])"
      ]
    },
    {
      "cell_type": "code",
      "execution_count": null,
      "id": "fc4d9dc6",
      "metadata": {},
      "outputs": [],
      "source": []
    },
    {
      "cell_type": "markdown",
      "id": "cb2beeaa",
      "metadata": {},
      "source": [
        "# Data Preparation"
      ]
    },
    {
      "cell_type": "code",
      "execution_count": 41,
      "id": "e8afb1b4",
      "metadata": {},
      "outputs": [],
      "source": [
        "\n",
        "TEST_SIZE = .01 # same as config.TEST_SIZE"
      ]
    },
    {
      "cell_type": "code",
      "execution_count": 42,
      "id": "00421d84",
      "metadata": {},
      "outputs": [],
      "source": [
        "xtrain, xtest, ytrain, ytest = train_test_split( df.select('review'), df.select('polarity'), test_size=  .01,  random_state = SEED)"
      ]
    },
    {
      "cell_type": "code",
      "execution_count": 43,
      "id": "2f5f852a",
      "metadata": {},
      "outputs": [],
      "source": [
        "del(df)"
      ]
    },
    {
      "cell_type": "code",
      "execution_count": 44,
      "id": "46770b0b",
      "metadata": {},
      "outputs": [
        {
          "name": "stdout",
          "output_type": "stream",
          "text": [
            "xtrain shape (3563999, 1) ytrain shape (3563999, 1)\n",
            "xtest shape (36000, 1) ytest shape (36000, 1)\n"
          ]
        }
      ],
      "source": [
        "print('xtrain shape',xtrain.shape, 'ytrain shape', ytrain.shape)\n",
        "print('xtest shape',xtest.shape, 'ytest shape', ytest.shape)"
      ]
    },
    {
      "cell_type": "markdown",
      "id": "e1fdd75f",
      "metadata": {},
      "source": [
        "# Creating tensorflow dataset using `tf.data` api"
      ]
    },
    {
      "cell_type": "code",
      "execution_count": 38,
      "id": "629e79dd",
      "metadata": {},
      "outputs": [],
      "source": [
        "BATCH_SIZE = 32"
      ]
    },
    {
      "cell_type": "code",
      "execution_count": null,
      "id": "58bd4829",
      "metadata": {},
      "outputs": [],
      "source": [
        "def data_generator(x, y):\n",
        "    num_samples = len(x)\n",
        "    for i in range(num_samples):\n",
        "        yield x[i], y[i]\n",
        "\n",
        "\n",
        "def create_datasets(x, y, text_vectorizer, batch_size, shuffle=True, buffer_size=10000):\n",
        "    \n",
        "    generator = data_generator(x, y)\n",
        "    print('Generating...')\n",
        "    train_dataset = tf.data.Dataset.from_generator(\n",
        "        lambda: generator,\n",
        "        output_signature=(\n",
        "            tf.TensorSpec(shape=(None, x.shape[1]), dtype=tf.string),\n",
        "            tf.TensorSpec(shape=(None, y.shape[1]), dtype=tf.int32)\n",
        "        )\n",
        "    )\n",
        "    print('Mapping...')\n",
        "    train_dataset = train_dataset.map(lambda x, y: (tf.cast(text_vectorizer(x), tf.int32)[0], y[0]), tf.data.AUTOTUNE)\n",
        "    train_dataset = train_dataset.batch(batch_size) \n",
        "    \n",
        "    if shuffle:\n",
        "        train_dataset = train_dataset.shuffle(buffer_size)\n",
        "    train_dataset = train_dataset.cache().prefetch(tf.data.AUTOTUNE)\n",
        "    print('Done.')\n",
        "    return train_dataset\n"
      ]
    },
    {
      "cell_type": "code",
      "execution_count": null,
      "id": "c8eb76f9",
      "metadata": {},
      "outputs": [],
      "source": [
        "# train_dataset = create_datasets(xtrain, ytrain, text_vectorizer, batch_size=BATCH_SIZE, shuffle=False)\n",
        "# test_dataset = create_datasets(xtest, ytest, text_vectorizer, batch_size=BATCH_SIZE, shuffle=False)"
      ]
    },
    {
      "cell_type": "code",
      "execution_count": null,
      "id": "cc64ea57",
      "metadata": {},
      "outputs": [],
      "source": [
        "# del(xtrain, ytrain)\n",
        "# del(xtest, ytest, counter_object)"
      ]
    },
    {
      "cell_type": "code",
      "execution_count": null,
      "id": "f557ad0b",
      "metadata": {},
      "outputs": [],
      "source": [
        "train_features = tf.data.Dataset.from_tensor_slices(xtrain) \n",
        "train_label = tf.data.Dataset.from_tensor_slices(ytrain) \n",
        "test_features = tf.data.Dataset.from_tensor_slices(xtest) \n",
        "test_label = tf.data.Dataset.from_tensor_slices(ytest) \n",
        "\n",
        "# del(xtrain, ytrain, xtest, ytest) # deleting variables to free the memory"
      ]
    },
    {
      "cell_type": "code",
      "execution_count": null,
      "id": "8cfcac6b",
      "metadata": {},
      "outputs": [],
      "source": [
        "train_dataset = tf.data.Dataset.zip((train_features, train_label))\n",
        "train_dataset = train_dataset.map(lambda x,y: (text_vectorizer(x)[0],y),tf.data.AUTOTUNE)\n",
        "train_dataset = train_dataset.batch(BATCH_SIZE).prefetch(tf.data.AUTOTUNE)\n",
        "\n",
        "test_dataset = tf.data.Dataset.zip((test_features, test_label))\n",
        "test_dataset = test_dataset.map(lambda x,y: (text_vectorizer(x)[0],y),tf.data.AUTOTUNE )\n",
        "test_dataset = test_dataset.batch(BATCH_SIZE).prefetch(tf.data.AUTOTUNE)\n",
        "\n",
        "# del(train_features, train_label, test_features, test_label) # deleting variables to free the memory"
      ]
    },
    {
      "cell_type": "code",
      "execution_count": null,
      "id": "2bb2ea74",
      "metadata": {},
      "outputs": [
        {
          "name": "stdout",
          "output_type": "stream",
          "text": [
            "len train dataset:  111375\n",
            "len test dataset:  1125\n"
          ]
        }
      ],
      "source": [
        "print('len train dataset: ', len(train_dataset))\n",
        "print('len test dataset: ', len(test_dataset))\n"
      ]
    },
    {
      "cell_type": "code",
      "execution_count": null,
      "id": "67cd8c53",
      "metadata": {},
      "outputs": [
        {
          "name": "stderr",
          "output_type": "stream",
          "text": [
            "2023-08-29 13:34:46.836069: W tensorflow/tsl/framework/cpu_allocator_impl.cc:83] Allocation of 85535976 exceeds 10% of free system memory.\n",
            "2023-08-29 13:34:49.026738: I tensorflow/core/common_runtime/executor.cc:1197] [/device:CPU:0] (DEBUG INFO) Executor start aborting (this does not indicate an error and you can ignore this message): INVALID_ARGUMENT: You must feed a value for placeholder tensor 'Placeholder/_6' with dtype int64\n",
            "\t [[{{node Placeholder/_6}}]]\n",
            "2023-08-29 13:34:49.027330: I tensorflow/core/common_runtime/executor.cc:1197] [/device:CPU:0] (DEBUG INFO) Executor start aborting (this does not indicate an error and you can ignore this message): INVALID_ARGUMENT: You must feed a value for placeholder tensor 'Placeholder/_8' with dtype int64\n",
            "\t [[{{node Placeholder/_8}}]]\n"
          ]
        },
        {
          "name": "stdout",
          "output_type": "stream",
          "text": [
            "(32, 175) (32, 1)\n",
            "tf.Tensor(\n",
            "[[  9456     43   1189 ...      0      0      0]\n",
            " [    11    400    205 ...      0      0      0]\n",
            " [   237    225    420 ...      0      0      0]\n",
            " ...\n",
            " [  1065     20     43 ...      0      0      0]\n",
            " [   418  19531      8 ...      0      0      0]\n",
            " [280552   1472     76 ...      0      0      0]], shape=(32, 175), dtype=int64) tf.Tensor(\n",
            "[[1]\n",
            " [1]\n",
            " [0]\n",
            " [1]\n",
            " [1]\n",
            " [1]\n",
            " [0]\n",
            " [0]\n",
            " [0]\n",
            " [0]\n",
            " [1]\n",
            " [0]\n",
            " [0]\n",
            " [1]\n",
            " [0]\n",
            " [1]\n",
            " [0]\n",
            " [1]\n",
            " [0]\n",
            " [0]\n",
            " [1]\n",
            " [1]\n",
            " [1]\n",
            " [1]\n",
            " [0]\n",
            " [1]\n",
            " [1]\n",
            " [0]\n",
            " [1]\n",
            " [0]\n",
            " [1]\n",
            " [1]], shape=(32, 1), dtype=int64)\n"
          ]
        }
      ],
      "source": [
        "for i,j in train_dataset:\n",
        "    print(i.shape,j.shape)\n",
        "    print(i,j)\n",
        "    break"
      ]
    },
    {
      "cell_type": "code",
      "execution_count": null,
      "id": "21711348",
      "metadata": {},
      "outputs": [
        {
          "data": {
            "text/plain": [
              "tensorflow.python.data.ops.prefetch_op._PrefetchDataset"
            ]
          },
          "execution_count": 51,
          "metadata": {},
          "output_type": "execute_result"
        }
      ],
      "source": [
        "type(train_dataset)"
      ]
    },
    {
      "cell_type": "code",
      "execution_count": null,
      "id": "f99904b6",
      "metadata": {},
      "outputs": [],
      "source": [
        "train_length = xtrain.shape[0]// BATCH_SIZE\n",
        "test_length = xtest.shape[0] // BATCH_SIZE"
      ]
    },
    {
      "cell_type": "code",
      "execution_count": null,
      "id": "6e76e0da",
      "metadata": {},
      "outputs": [
        {
          "name": "stdout",
          "output_type": "stream",
          "text": [
            "train length:  111374 \n",
            "test_length:  1125\n"
          ]
        }
      ],
      "source": [
        "print(\"train length: \", train_length, '\\ntest_length: ', test_length)"
      ]
    },
    {
      "cell_type": "code",
      "execution_count": null,
      "id": "8afc7914",
      "metadata": {},
      "outputs": [
        {
          "data": {
            "text/plain": [
              "PosixPath('/home/t/aproject/Amazon-review-sentiment-analysis/model/text_vectorizer.pkl')"
            ]
          },
          "execution_count": 54,
          "metadata": {},
          "output_type": "execute_result"
        }
      ],
      "source": [
        "VECTORIZE_PATH = cur_dir.parent / 'model' / 'text_vectorizer.pkl'\n",
        "VECTORIZE_PATH"
      ]
    },
    {
      "cell_type": "code",
      "execution_count": null,
      "id": "d2f12270",
      "metadata": {},
      "outputs": [],
      "source": [
        "# to load text vectorizer\n",
        "\n",
        "def load_text_vectorizer(vectorizer_path):\n",
        "    from_disk = pickle.load(open(vectorizer_path, \"rb\"))\n",
        "    return TextVectorization.from_config(from_disk['config'])\n",
        "\n"
      ]
    },
    {
      "cell_type": "code",
      "execution_count": null,
      "id": "295c9169",
      "metadata": {},
      "outputs": [
        {
          "data": {
            "text/plain": [
              "(500000, ['', '[UNK]', 'the', 'best'])"
            ]
          },
          "execution_count": 56,
          "metadata": {},
          "output_type": "execute_result"
        }
      ],
      "source": [
        "text_vectorizer.vocabulary_size(), text_vectorizer.get_vocabulary()[:4]"
      ]
    },
    {
      "cell_type": "code",
      "execution_count": null,
      "id": "5e1a49c4",
      "metadata": {},
      "outputs": [
        {
          "data": {
            "text/plain": [
              "PosixPath('/home/t/aproject/Amazon-review-sentiment-analysis/model/text_vectorizer.pkl')"
            ]
          },
          "execution_count": 57,
          "metadata": {},
          "output_type": "execute_result"
        }
      ],
      "source": [
        "model_dir/'text_vectorizer.pkl'"
      ]
    },
    {
      "cell_type": "code",
      "execution_count": null,
      "id": "2a474f71",
      "metadata": {},
      "outputs": [],
      "source": [
        "text_vectorizer = load_text_vectorizer(model_dir/'text_vectorizer.pkl')"
      ]
    },
    {
      "cell_type": "code",
      "execution_count": null,
      "id": "68473aa6",
      "metadata": {},
      "outputs": [],
      "source": [
        "# Pickle the config and weights\n",
        "def save_text_vectorizer(vectorizer_path):\n",
        "    pickle.dump({'config': text_vectorizer.get_config(),\n",
        "                'vocabulary': text_vectorizer.get_vocabulary()}\n",
        "                , open(vectorizer_path, \"wb\"))\n",
        "\n"
      ]
    },
    {
      "cell_type": "code",
      "execution_count": null,
      "id": "5724b458",
      "metadata": {},
      "outputs": [
        {
          "name": "stdout",
          "output_type": "stream",
          "text": [
            "<class 'list'> 500000\n",
            "['', '[UNK]', 'the', 'best']\n"
          ]
        }
      ],
      "source": [
        "s = text_vectorizer.get_vocabulary()\n",
        "print(type(s), len(s))\n",
        "print(s[:4])"
      ]
    },
    {
      "cell_type": "code",
      "execution_count": null,
      "id": "94fa1db9",
      "metadata": {},
      "outputs": [],
      "source": [
        "save_text_vectorizer(VECTORIZE_PATH)"
      ]
    },
    {
      "cell_type": "markdown",
      "id": "d3f2c5d8",
      "metadata": {
        "id": "d3f2c5d8"
      },
      "source": [
        "# Embedding"
      ]
    },
    {
      "cell_type": "code",
      "execution_count": 39,
      "id": "54b35527",
      "metadata": {},
      "outputs": [],
      "source": [
        "DIM = 8"
      ]
    },
    {
      "cell_type": "code",
      "execution_count": null,
      "id": "4cac4f8d",
      "metadata": {
        "id": "4cac4f8d"
      },
      "outputs": [],
      "source": [
        "embedding = Embedding(input_dim = MAX_TOKEN,output_dim= DIM, mask_zero=True, input_length=OUTPUT_SEQUENCE_LENGTH)\n",
        "# print('Embedded text vectorized random sentence: ',embedding(text_vectorizer(random_review)))"
      ]
    },
    {
      "cell_type": "code",
      "execution_count": null,
      "id": "e5e0fff2",
      "metadata": {},
      "outputs": [],
      "source": []
    },
    {
      "cell_type": "markdown",
      "id": "0af21ff9",
      "metadata": {},
      "source": [
        "# Model:0 (Naive bayes model)"
      ]
    },
    {
      "cell_type": "code",
      "execution_count": null,
      "id": "a8c97769",
      "metadata": {},
      "outputs": [],
      "source": [
        "model0 = Pipeline([\n",
        "    ('tfidf',TfidfVectorizer()),\n",
        "    ('multino',MultinomialNB())\n",
        "])"
      ]
    },
    {
      "cell_type": "code",
      "execution_count": null,
      "id": "2131ed31",
      "metadata": {},
      "outputs": [],
      "source": [
        "%%time\n",
        "#fit and predict\n",
        "model0.fit(xtrain['review'], ytrain)"
      ]
    },
    {
      "cell_type": "code",
      "execution_count": null,
      "id": "0f9b520c",
      "metadata": {},
      "outputs": [],
      "source": [
        "pred0 = model0.predict(xtest['review'])\n",
        "\n",
        "print(pred0.shape ==  ytest.shape)\n",
        "print('pred00.shape: ',pred0.shape)\n",
        "print('ytest.shape: ',ytest.shape)\n",
        "\n",
        "model0_res = calculate_results(y_true=ytest, y_pred=pred0, model_name='model0: naive bayes')\n",
        "print(model0_res)"
      ]
    },
    {
      "cell_type": "code",
      "execution_count": null,
      "id": "f4c5276d",
      "metadata": {},
      "outputs": [],
      "source": []
    },
    {
      "cell_type": "markdown",
      "id": "849fff07",
      "metadata": {
        "id": "849fff07"
      },
      "source": [
        "# Model1"
      ]
    },
    {
      "cell_type": "code",
      "execution_count": 46,
      "id": "ad696d7b",
      "metadata": {},
      "outputs": [],
      "source": [
        "\n",
        "def create_lstm_model(input_shape, max_tokens, dim):\n",
        "    inputs = keras.Input(shape=(input_shape))\n",
        "    embedding_layer = Embedding(input_dim=max_tokens, output_dim=dim, mask_zero=True, input_length=input_shape, name='embedding_layer')(inputs)\n",
        "    x = LSTM(16, return_sequences=True, name = 'lstm_layer_1')(embedding_layer)\n",
        "    x = LSTM(16, name = 'lstm_layer_2')(x)\n",
        "    x = Dropout(0.4, name ='dropout_layer')(x)\n",
        "    x = Dense(64, activation='relu', name = 'dense_layer_1')(x)\n",
        "    outputs = Dense(1, activation='sigmoid', name = 'dense_layer_2_final')(x)\n",
        "    return keras.Model(inputs=inputs, outputs=outputs, name='model_lstm')\n",
        "\n"
      ]
    },
    {
      "cell_type": "code",
      "execution_count": 47,
      "id": "c847589e",
      "metadata": {
        "id": "c847589e"
      },
      "outputs": [],
      "source": [
        "import tensorflow as tf\n",
        "\n",
        "class LSTMModel(tf.keras.Model):\n",
        "    def __init__(self, text_vectorizer, embed_dim, dropout_rate=0.2):\n",
        "        super(LSTMModel, self).__init__(name='custom_lstm_model')\n",
        "        self.text_vectorizer = text_vectorizer\n",
        "        \n",
        "        self.embedding_layer = tf.keras.layers.Embedding(input_dim=text_vectorizer.vocabulary_size(), output_dim=embed_dim)\n",
        "        self.lstm1 = tf.keras.layers.LSTM(16, return_sequences=True)\n",
        "        self.lstm2 = tf.keras.layers.LSTM(16)\n",
        "        self.dropout = tf.keras.layers.Dropout(dropout_rate)\n",
        "        self.dense1 = tf.keras.layers.Dense(64, activation='relu')\n",
        "        self.dense2 = tf.keras.layers.Dense(1, activation='sigmoid')\n",
        "        \n",
        "    def call(self, inputs):\n",
        "        x = self.embedding_layer(inputs)\n",
        "        x = self.lstm1(x)\n",
        "        x = self.lstm2(x)\n",
        "        x = self.dropout(x)\n",
        "        x = self.dense1(x)\n",
        "        return self.dense2(x)\n",
        "         \n",
        "    \n",
        "    def predict_text(self, text):\n",
        "        vectorized_text = self.text_vectorizer.transform([text])\n",
        "        return self.predict(vectorized_text)\n",
        "\n",
        "\n",
        "# Instantiate the model\n",
        "output_sequence_length = OUTPUT_SEQUENCE_LENGTH  # actual value\n",
        "# model = LSTMModel(text_vectorizer, embed_dim=DIM)\n",
        "model = create_lstm_model(output_sequence_length, max_tokens=MAX_TOKEN, dim=DIM)\n",
        "\n",
        "# Compile the model\n",
        "model.compile(loss=tf.keras.losses.BinaryCrossentropy(),\n",
        "              optimizer=tf.keras.optimizers.Adam(),\n",
        "              metrics=['Accuracy'])"
      ]
    },
    {
      "cell_type": "code",
      "execution_count": 52,
      "id": "e538e2ec",
      "metadata": {},
      "outputs": [
        {
          "name": "stdout",
          "output_type": "stream",
          "text": [
            "Model: \"model_lstm\"\n",
            "_________________________________________________________________\n",
            " Layer (type)                Output Shape              Param #   \n",
            "=================================================================\n",
            " input_3 (InputLayer)        [(None, 175)]             0         \n",
            "                                                                 \n",
            " embedding_layer (Embedding)  (None, 175, 8)           2400000   \n",
            "                                                                 \n",
            " lstm_layer_1 (LSTM)         (None, 175, 16)           1600      \n",
            "                                                                 \n",
            " lstm_layer_2 (LSTM)         (None, 16)                2112      \n",
            "                                                                 \n",
            " dropout_layer (Dropout)     (None, 16)                0         \n",
            "                                                                 \n",
            " dense_layer_1 (Dense)       (None, 64)                1088      \n",
            "                                                                 \n",
            " dense_layer_2_final (Dense)  (None, 1)                65        \n",
            "                                                                 \n",
            "=================================================================\n",
            "Total params: 2,404,865\n",
            "Trainable params: 2,404,865\n",
            "Non-trainable params: 0\n",
            "_________________________________________________________________\n"
          ]
        }
      ],
      "source": [
        "model.summary()"
      ]
    },
    {
      "cell_type": "code",
      "execution_count": 51,
      "id": "d49f77c2",
      "metadata": {},
      "outputs": [
        {
          "data": {
            "image/png": "[encoded data removed]",
            "text/plain": [
              "<IPython.core.display.Image object>"
            ]
          },
          "execution_count": 51,
          "metadata": {},
          "output_type": "execute_result"
        }
      ],
      "source": [
        "tf.keras.utils.plot_model(model, expand_nested=True, show_shapes=True, show_dtype=True, rankdir='TP')"
      ]
    },
    {
      "cell_type": "code",
      "execution_count": 67,
      "id": "a76eff94",
      "metadata": {
        "id": "a76eff94"
      },
      "outputs": [],
      "source": [
        "EPOCHS = 1\n",
        "# print(len(train_dataset), len(val_dataset))"
      ]
    },
    {
      "cell_type": "code",
      "execution_count": 68,
      "id": "364522a3",
      "metadata": {},
      "outputs": [
        {
          "data": {
            "text/plain": [
              "PosixPath('/home/t/aproject/Amazon-review-sentiment-analysis/model')"
            ]
          },
          "execution_count": 68,
          "metadata": {},
          "output_type": "execute_result"
        }
      ],
      "source": [
        "model_dir = Path(os.getcwd()).parent /'model'\n",
        "model_dir"
      ]
    },
    {
      "cell_type": "code",
      "execution_count": null,
      "id": "cd51a60c",
      "metadata": {},
      "outputs": [],
      "source": []
    },
    {
      "cell_type": "code",
      "execution_count": 43,
      "id": "88cd1aa8",
      "metadata": {},
      "outputs": [],
      "source": [
        "model = tf.keras.models.load_model(model_dir/'model.h5')"
      ]
    },
    {
      "cell_type": "code",
      "execution_count": 71,
      "id": "ba48c155",
      "metadata": {
        "id": "ba48c155",
        "scrolled": true
      },
      "outputs": [
        {
          "name": "stdout",
          "output_type": "stream",
          "text": [
            " 963/1000 [===========================>..] - ETA: 6s - loss: 0.3468 - Accuracy: 0.8600"
          ]
        },
        {
          "ename": "KeyboardInterrupt",
          "evalue": "",
          "output_type": "error",
          "traceback": [
            "\u001b[0;31m---------------------------------------------------------------------------\u001b[0m",
            "\u001b[0;31mKeyboardInterrupt\u001b[0m                         Traceback (most recent call last)",
            "Cell \u001b[0;32mIn[71], line 4\u001b[0m\n\u001b[1;32m      1\u001b[0m \u001b[39m# %%time\u001b[39;00m\n\u001b[1;32m      2\u001b[0m \n\u001b[1;32m      3\u001b[0m \u001b[39m# fit the model\u001b[39;00m\n\u001b[0;32m----> 4\u001b[0m history1 \u001b[39m=\u001b[39m model\u001b[39m.\u001b[39;49mfit(train_dataset, epochs \u001b[39m=\u001b[39;49m EPOCHS, \n\u001b[1;32m      5\u001b[0m                       validation_data\u001b[39m=\u001b[39;49m test_dataset, \n\u001b[1;32m      6\u001b[0m                       \u001b[39m# steps_per_epoch=int(0.001*(len(train_dataset) / EPOCHS)),\u001b[39;49;00m\n\u001b[1;32m      7\u001b[0m                       steps_per_epoch \u001b[39m=\u001b[39;49m \u001b[39m1000\u001b[39;49m,\n\u001b[1;32m      8\u001b[0m                       \u001b[39m# validation_steps=int(1*(len(test_dataset) / EPOCHS)),\u001b[39;49;00m\n\u001b[1;32m      9\u001b[0m                       validation_steps\u001b[39m=\u001b[39;49m\u001b[39m32\u001b[39;49m,\n\u001b[1;32m     10\u001b[0m                     )\n",
            "File \u001b[0;32m~/miniconda3/envs/deep/lib/python3.11/site-packages/keras/utils/traceback_utils.py:65\u001b[0m, in \u001b[0;36mfilter_traceback.<locals>.error_handler\u001b[0;34m(*args, **kwargs)\u001b[0m\n\u001b[1;32m     63\u001b[0m filtered_tb \u001b[39m=\u001b[39m \u001b[39mNone\u001b[39;00m\n\u001b[1;32m     64\u001b[0m \u001b[39mtry\u001b[39;00m:\n\u001b[0;32m---> 65\u001b[0m     \u001b[39mreturn\u001b[39;00m fn(\u001b[39m*\u001b[39;49margs, \u001b[39m*\u001b[39;49m\u001b[39m*\u001b[39;49mkwargs)\n\u001b[1;32m     66\u001b[0m \u001b[39mexcept\u001b[39;00m \u001b[39mException\u001b[39;00m \u001b[39mas\u001b[39;00m e:\n\u001b[1;32m     67\u001b[0m     filtered_tb \u001b[39m=\u001b[39m _process_traceback_frames(e\u001b[39m.\u001b[39m__traceback__)\n",
            "File \u001b[0;32m~/miniconda3/envs/deep/lib/python3.11/site-packages/keras/engine/training.py:1685\u001b[0m, in \u001b[0;36mModel.fit\u001b[0;34m(self, x, y, batch_size, epochs, verbose, callbacks, validation_split, validation_data, shuffle, class_weight, sample_weight, initial_epoch, steps_per_epoch, validation_steps, validation_batch_size, validation_freq, max_queue_size, workers, use_multiprocessing)\u001b[0m\n\u001b[1;32m   1677\u001b[0m \u001b[39mwith\u001b[39;00m tf\u001b[39m.\u001b[39mprofiler\u001b[39m.\u001b[39mexperimental\u001b[39m.\u001b[39mTrace(\n\u001b[1;32m   1678\u001b[0m     \u001b[39m\"\u001b[39m\u001b[39mtrain\u001b[39m\u001b[39m\"\u001b[39m,\n\u001b[1;32m   1679\u001b[0m     epoch_num\u001b[39m=\u001b[39mepoch,\n\u001b[0;32m   (...)\u001b[0m\n\u001b[1;32m   1682\u001b[0m     _r\u001b[39m=\u001b[39m\u001b[39m1\u001b[39m,\n\u001b[1;32m   1683\u001b[0m ):\n\u001b[1;32m   1684\u001b[0m     callbacks\u001b[39m.\u001b[39mon_train_batch_begin(step)\n\u001b[0;32m-> 1685\u001b[0m     tmp_logs \u001b[39m=\u001b[39m \u001b[39mself\u001b[39;49m\u001b[39m.\u001b[39;49mtrain_function(iterator)\n\u001b[1;32m   1686\u001b[0m     \u001b[39mif\u001b[39;00m data_handler\u001b[39m.\u001b[39mshould_sync:\n\u001b[1;32m   1687\u001b[0m         context\u001b[39m.\u001b[39masync_wait()\n",
            "File \u001b[0;32m~/miniconda3/envs/deep/lib/python3.11/site-packages/tensorflow/python/util/traceback_utils.py:150\u001b[0m, in \u001b[0;36mfilter_traceback.<locals>.error_handler\u001b[0;34m(*args, **kwargs)\u001b[0m\n\u001b[1;32m    148\u001b[0m filtered_tb \u001b[39m=\u001b[39m \u001b[39mNone\u001b[39;00m\n\u001b[1;32m    149\u001b[0m \u001b[39mtry\u001b[39;00m:\n\u001b[0;32m--> 150\u001b[0m   \u001b[39mreturn\u001b[39;00m fn(\u001b[39m*\u001b[39;49margs, \u001b[39m*\u001b[39;49m\u001b[39m*\u001b[39;49mkwargs)\n\u001b[1;32m    151\u001b[0m \u001b[39mexcept\u001b[39;00m \u001b[39mException\u001b[39;00m \u001b[39mas\u001b[39;00m e:\n\u001b[1;32m    152\u001b[0m   filtered_tb \u001b[39m=\u001b[39m _process_traceback_frames(e\u001b[39m.\u001b[39m__traceback__)\n",
            "File \u001b[0;32m~/miniconda3/envs/deep/lib/python3.11/site-packages/tensorflow/python/eager/polymorphic_function/polymorphic_function.py:894\u001b[0m, in \u001b[0;36mFunction.__call__\u001b[0;34m(self, *args, **kwds)\u001b[0m\n\u001b[1;32m    891\u001b[0m compiler \u001b[39m=\u001b[39m \u001b[39m\"\u001b[39m\u001b[39mxla\u001b[39m\u001b[39m\"\u001b[39m \u001b[39mif\u001b[39;00m \u001b[39mself\u001b[39m\u001b[39m.\u001b[39m_jit_compile \u001b[39melse\u001b[39;00m \u001b[39m\"\u001b[39m\u001b[39mnonXla\u001b[39m\u001b[39m\"\u001b[39m\n\u001b[1;32m    893\u001b[0m \u001b[39mwith\u001b[39;00m OptionalXlaContext(\u001b[39mself\u001b[39m\u001b[39m.\u001b[39m_jit_compile):\n\u001b[0;32m--> 894\u001b[0m   result \u001b[39m=\u001b[39m \u001b[39mself\u001b[39;49m\u001b[39m.\u001b[39;49m_call(\u001b[39m*\u001b[39;49margs, \u001b[39m*\u001b[39;49m\u001b[39m*\u001b[39;49mkwds)\n\u001b[1;32m    896\u001b[0m new_tracing_count \u001b[39m=\u001b[39m \u001b[39mself\u001b[39m\u001b[39m.\u001b[39mexperimental_get_tracing_count()\n\u001b[1;32m    897\u001b[0m without_tracing \u001b[39m=\u001b[39m (tracing_count \u001b[39m==\u001b[39m new_tracing_count)\n",
            "File \u001b[0;32m~/miniconda3/envs/deep/lib/python3.11/site-packages/tensorflow/python/eager/polymorphic_function/polymorphic_function.py:926\u001b[0m, in \u001b[0;36mFunction._call\u001b[0;34m(self, *args, **kwds)\u001b[0m\n\u001b[1;32m    923\u001b[0m   \u001b[39mself\u001b[39m\u001b[39m.\u001b[39m_lock\u001b[39m.\u001b[39mrelease()\n\u001b[1;32m    924\u001b[0m   \u001b[39m# In this case we have created variables on the first call, so we run the\u001b[39;00m\n\u001b[1;32m    925\u001b[0m   \u001b[39m# defunned version which is guaranteed to never create variables.\u001b[39;00m\n\u001b[0;32m--> 926\u001b[0m   \u001b[39mreturn\u001b[39;00m \u001b[39mself\u001b[39;49m\u001b[39m.\u001b[39;49m_no_variable_creation_fn(\u001b[39m*\u001b[39;49margs, \u001b[39m*\u001b[39;49m\u001b[39m*\u001b[39;49mkwds)  \u001b[39m# pylint: disable=not-callable\u001b[39;00m\n\u001b[1;32m    927\u001b[0m \u001b[39melif\u001b[39;00m \u001b[39mself\u001b[39m\u001b[39m.\u001b[39m_variable_creation_fn \u001b[39mis\u001b[39;00m \u001b[39mnot\u001b[39;00m \u001b[39mNone\u001b[39;00m:\n\u001b[1;32m    928\u001b[0m   \u001b[39m# Release the lock early so that multiple threads can perform the call\u001b[39;00m\n\u001b[1;32m    929\u001b[0m   \u001b[39m# in parallel.\u001b[39;00m\n\u001b[1;32m    930\u001b[0m   \u001b[39mself\u001b[39m\u001b[39m.\u001b[39m_lock\u001b[39m.\u001b[39mrelease()\n",
            "File \u001b[0;32m~/miniconda3/envs/deep/lib/python3.11/site-packages/tensorflow/python/eager/polymorphic_function/tracing_compiler.py:143\u001b[0m, in \u001b[0;36mTracingCompiler.__call__\u001b[0;34m(self, *args, **kwargs)\u001b[0m\n\u001b[1;32m    140\u001b[0m \u001b[39mwith\u001b[39;00m \u001b[39mself\u001b[39m\u001b[39m.\u001b[39m_lock:\n\u001b[1;32m    141\u001b[0m   (concrete_function,\n\u001b[1;32m    142\u001b[0m    filtered_flat_args) \u001b[39m=\u001b[39m \u001b[39mself\u001b[39m\u001b[39m.\u001b[39m_maybe_define_function(args, kwargs)\n\u001b[0;32m--> 143\u001b[0m \u001b[39mreturn\u001b[39;00m concrete_function\u001b[39m.\u001b[39;49m_call_flat(\n\u001b[1;32m    144\u001b[0m     filtered_flat_args, captured_inputs\u001b[39m=\u001b[39;49mconcrete_function\u001b[39m.\u001b[39;49mcaptured_inputs)\n",
            "File \u001b[0;32m~/miniconda3/envs/deep/lib/python3.11/site-packages/tensorflow/python/eager/polymorphic_function/monomorphic_function.py:1757\u001b[0m, in \u001b[0;36mConcreteFunction._call_flat\u001b[0;34m(self, args, captured_inputs, cancellation_manager)\u001b[0m\n\u001b[1;32m   1753\u001b[0m possible_gradient_type \u001b[39m=\u001b[39m gradients_util\u001b[39m.\u001b[39mPossibleTapeGradientTypes(args)\n\u001b[1;32m   1754\u001b[0m \u001b[39mif\u001b[39;00m (possible_gradient_type \u001b[39m==\u001b[39m gradients_util\u001b[39m.\u001b[39mPOSSIBLE_GRADIENT_TYPES_NONE\n\u001b[1;32m   1755\u001b[0m     \u001b[39mand\u001b[39;00m executing_eagerly):\n\u001b[1;32m   1756\u001b[0m   \u001b[39m# No tape is watching; skip to running the function.\u001b[39;00m\n\u001b[0;32m-> 1757\u001b[0m   \u001b[39mreturn\u001b[39;00m \u001b[39mself\u001b[39m\u001b[39m.\u001b[39m_build_call_outputs(\u001b[39mself\u001b[39;49m\u001b[39m.\u001b[39;49m_inference_function\u001b[39m.\u001b[39;49mcall(\n\u001b[1;32m   1758\u001b[0m       ctx, args, cancellation_manager\u001b[39m=\u001b[39;49mcancellation_manager))\n\u001b[1;32m   1759\u001b[0m forward_backward \u001b[39m=\u001b[39m \u001b[39mself\u001b[39m\u001b[39m.\u001b[39m_select_forward_and_backward_functions(\n\u001b[1;32m   1760\u001b[0m     args,\n\u001b[1;32m   1761\u001b[0m     possible_gradient_type,\n\u001b[1;32m   1762\u001b[0m     executing_eagerly)\n\u001b[1;32m   1763\u001b[0m forward_function, args_with_tangents \u001b[39m=\u001b[39m forward_backward\u001b[39m.\u001b[39mforward()\n",
            "File \u001b[0;32m~/miniconda3/envs/deep/lib/python3.11/site-packages/tensorflow/python/eager/polymorphic_function/monomorphic_function.py:381\u001b[0m, in \u001b[0;36m_EagerDefinedFunction.call\u001b[0;34m(self, ctx, args, cancellation_manager)\u001b[0m\n\u001b[1;32m    379\u001b[0m \u001b[39mwith\u001b[39;00m _InterpolateFunctionError(\u001b[39mself\u001b[39m):\n\u001b[1;32m    380\u001b[0m   \u001b[39mif\u001b[39;00m cancellation_manager \u001b[39mis\u001b[39;00m \u001b[39mNone\u001b[39;00m:\n\u001b[0;32m--> 381\u001b[0m     outputs \u001b[39m=\u001b[39m execute\u001b[39m.\u001b[39;49mexecute(\n\u001b[1;32m    382\u001b[0m         \u001b[39mstr\u001b[39;49m(\u001b[39mself\u001b[39;49m\u001b[39m.\u001b[39;49msignature\u001b[39m.\u001b[39;49mname),\n\u001b[1;32m    383\u001b[0m         num_outputs\u001b[39m=\u001b[39;49m\u001b[39mself\u001b[39;49m\u001b[39m.\u001b[39;49m_num_outputs,\n\u001b[1;32m    384\u001b[0m         inputs\u001b[39m=\u001b[39;49margs,\n\u001b[1;32m    385\u001b[0m         attrs\u001b[39m=\u001b[39;49mattrs,\n\u001b[1;32m    386\u001b[0m         ctx\u001b[39m=\u001b[39;49mctx)\n\u001b[1;32m    387\u001b[0m   \u001b[39melse\u001b[39;00m:\n\u001b[1;32m    388\u001b[0m     outputs \u001b[39m=\u001b[39m execute\u001b[39m.\u001b[39mexecute_with_cancellation(\n\u001b[1;32m    389\u001b[0m         \u001b[39mstr\u001b[39m(\u001b[39mself\u001b[39m\u001b[39m.\u001b[39msignature\u001b[39m.\u001b[39mname),\n\u001b[1;32m    390\u001b[0m         num_outputs\u001b[39m=\u001b[39m\u001b[39mself\u001b[39m\u001b[39m.\u001b[39m_num_outputs,\n\u001b[0;32m   (...)\u001b[0m\n\u001b[1;32m    393\u001b[0m         ctx\u001b[39m=\u001b[39mctx,\n\u001b[1;32m    394\u001b[0m         cancellation_manager\u001b[39m=\u001b[39mcancellation_manager)\n",
            "File \u001b[0;32m~/miniconda3/envs/deep/lib/python3.11/site-packages/tensorflow/python/eager/execute.py:52\u001b[0m, in \u001b[0;36mquick_execute\u001b[0;34m(op_name, num_outputs, inputs, attrs, ctx, name)\u001b[0m\n\u001b[1;32m     50\u001b[0m \u001b[39mtry\u001b[39;00m:\n\u001b[1;32m     51\u001b[0m   ctx\u001b[39m.\u001b[39mensure_initialized()\n\u001b[0;32m---> 52\u001b[0m   tensors \u001b[39m=\u001b[39m pywrap_tfe\u001b[39m.\u001b[39;49mTFE_Py_Execute(ctx\u001b[39m.\u001b[39;49m_handle, device_name, op_name,\n\u001b[1;32m     53\u001b[0m                                       inputs, attrs, num_outputs)\n\u001b[1;32m     54\u001b[0m \u001b[39mexcept\u001b[39;00m core\u001b[39m.\u001b[39m_NotOkStatusException \u001b[39mas\u001b[39;00m e:\n\u001b[1;32m     55\u001b[0m   \u001b[39mif\u001b[39;00m name \u001b[39mis\u001b[39;00m \u001b[39mnot\u001b[39;00m \u001b[39mNone\u001b[39;00m:\n",
            "\u001b[0;31mKeyboardInterrupt\u001b[0m: "
          ]
        }
      ],
      "source": [
        "# %%time\n",
        "\n",
        "# fit the model\n",
        "history1 = model.fit(train_dataset, epochs = EPOCHS, \n",
        "                      validation_data= test_dataset, \n",
        "                      # steps_per_epoch=int(0.001*(len(train_dataset) / EPOCHS)),\n",
        "                      steps_per_epoch = 1000,\n",
        "                      # validation_steps=int(1*(len(test_dataset) / EPOCHS)),\n",
        "                      validation_steps=32,\n",
        "                    )"
      ]
    },
    {
      "cell_type": "code",
      "execution_count": null,
      "id": "4bb5f853",
      "metadata": {},
      "outputs": [],
      "source": [
        "model_dir"
      ]
    },
    {
      "cell_type": "code",
      "execution_count": 166,
      "id": "efd80b56",
      "metadata": {},
      "outputs": [],
      "source": [
        "model.save_weights(model_dir/'model.h5')"
      ]
    },
    {
      "cell_type": "code",
      "execution_count": null,
      "id": "4ad33a34",
      "metadata": {},
      "outputs": [],
      "source": [
        "from funcyou.plot import plot_history"
      ]
    },
    {
      "cell_type": "code",
      "execution_count": null,
      "id": "16462aa1",
      "metadata": {},
      "outputs": [],
      "source": [
        "h1 = pd.DataFrame(history1.history)\n",
        "h1"
      ]
    },
    {
      "cell_type": "code",
      "execution_count": null,
      "id": "863cb15c",
      "metadata": {
        "id": "863cb15c"
      },
      "outputs": [],
      "source": [
        "#plot history\n",
        "# plot_history(history1, plot=['loss','accuracy'], figsize=(15,5))\n",
        "# plot_training_history(history1, metrics=['loss', 'accuracy'], figsize=(18,3))\n"
      ]
    },
    {
      "cell_type": "markdown",
      "id": "4a20bc95",
      "metadata": {
        "id": "4a20bc95"
      },
      "source": [
        "#### Evaluation"
      ]
    },
    {
      "cell_type": "code",
      "execution_count": null,
      "id": "d7621b8d",
      "metadata": {
        "id": "d7621b8d"
      },
      "outputs": [],
      "source": [
        "ypred1 = tf.squeeze(tf.round(model1.predict(test_dataset)))\n",
        "print('ypred1.shape: ',ypred1.shape)\n",
        "\n",
        "model1_res = calculate_results(ytest,ypred1, model_name='model1: LSTM', discription = 'small lstm model with vectorizer and embedding layer')\n",
        "print(model1_res)\n"
      ]
    },
    {
      "cell_type": "code",
      "execution_count": null,
      "id": "7KSp4D2REBKv",
      "metadata": {
        "id": "7KSp4D2REBKv"
      },
      "outputs": [],
      "source": [
        "all_result"
      ]
    },
    {
      "cell_type": "code",
      "execution_count": 58,
      "id": "22b4318b",
      "metadata": {},
      "outputs": [],
      "source": [
        "\n",
        "def predict_sentiment(title, text, text_vectorizer, lstm_model):\n",
        "    review = f'{title} {text}' # concatenate the title and text\n",
        "    clean_review = clean_text(review)\n",
        "    review_sequence = text_vectorizer([clean_review])\n",
        "    prediction = lstm_model.predict(review_sequence)\n",
        "    sentiment_score = prediction[0][0]\n",
        "    sentiment_label = 'Positive' if sentiment_score >= 0.5 else 'Negative'\n",
        "    return sentiment_label, sentiment_score\n"
      ]
    },
    {
      "cell_type": "code",
      "execution_count": 59,
      "id": "39102a82",
      "metadata": {},
      "outputs": [
        {
          "name": "stdout",
          "output_type": "stream",
          "text": [
            "1/1 [==============================] - 0s 25ms/step\n",
            "Positive 0.73981065\n"
          ]
        }
      ],
      "source": [
        "review_title = 'my name is mike'\n",
        "review_text  =  \"and i don't like it\"\n",
        "\n",
        "sentiment_label, sentiment_score = predict_sentiment(review_title, review_text, text_vectorizer, model)\n",
        "print(sentiment_label, sentiment_score)"
      ]
    },
    {
      "cell_type": "code",
      "execution_count": null,
      "id": "29833e0e",
      "metadata": {},
      "outputs": [],
      "source": []
    },
    {
      "cell_type": "code",
      "execution_count": null,
      "id": "0e7cb132",
      "metadata": {},
      "outputs": [],
      "source": []
    }
  ],
  "metadata": {
    "colab": {
      "include_colab_link": true,
      "provenance": []
    },
    "gpuClass": "standard",
    "kernelspec": {
      "display_name": "deep",
      "language": "python",
      "name": "deep"
    },
    "language_info": {
      "codemirror_mode": {
        "name": "ipython",
        "version": 3
      },
      "file_extension": ".py",
      "mimetype": "text/x-python",
      "name": "python",
      "nbconvert_exporter": "python",
      "pygments_lexer": "ipython3",
      "version": "3.11.4"
    }
  },
  "nbformat": 4,
  "nbformat_minor": 5
}
