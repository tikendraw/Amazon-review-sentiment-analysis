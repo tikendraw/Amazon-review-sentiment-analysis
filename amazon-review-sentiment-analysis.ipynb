{
  "cells": [
    {
      "cell_type": "markdown",
      "id": "1c16cfc6",
      "metadata": {
        "id": "1c16cfc6"
      },
      "source": [
        "# Amazon Reviews for Sentiment Analysis"
      ]
    },
    {
      "cell_type": "markdown",
      "id": "3fac0c72",
      "metadata": {
        "id": "3fac0c72"
      },
      "source": [
        "## Objective\n",
        "\n",
        "Here we will be Building ML and DL models to predict the Polarity of reviews.\n",
        "We will be performing series of experiments with different models to achieve the best classification metrics.(while not abusing the machine we have)"
      ]
    },
    {
      "cell_type": "markdown",
      "id": "8ec49b73",
      "metadata": {
        "id": "8ec49b73"
      },
      "source": [
        "## About Dataset \n",
        "[Dataset here](https://www.kaggle.com/datasets/kritanjalijain/amazon-reviews)\n",
        "\n",
        "\n",
        "### OVERVIEW\n",
        "Contains 34,686,770 Amazon reviews from 6,643,669 users on 2,441,053 products, from the Stanford Network Analysis Project (SNAP). This subset contains 1,800,000 training samples and 200,000 testing samples in each polarity sentiment.\n",
        "\n",
        "### ORIGIN\n",
        "The Amazon reviews dataset consists of reviews from amazon. The data span a period of 18 years, including ~35 million reviews up to March 2013. Reviews include product and user information, ratings, and a plaintext review. For more information, please refer to the following paper: J. McAuley and J. Leskovec. Hidden factors and hidden topics: understanding rating dimensions with review text. RecSys, 2013.\n",
        "\n",
        "### DESCRIPTION\n",
        "The Amazon reviews polarity dataset is constructed by taking review score 1 and 2 as negative, and 4 and 5 as positive. Samples of score 3 is ignored. In the dataset, class 1 is the negative and class 2 is the positive. Each class has 1,800,000 training samples and 200,000 testing samples.\n",
        "\n",
        "If you need help extracting the train.csv and test.csv files check out the starter code.\n",
        "\n",
        "The files train.csv and test.csv contain all the training samples as comma-separated values.\n",
        "\n",
        "The CSVs contain polarity, title, text. These 3 columns in them, correspond to class index (1 or 2), review title and review text.\n",
        "\n",
        "polarity - 1 for negative and 2 for positive\n",
        "title - review heading\n",
        "text - review body\n",
        "The review title and text are escaped using double quotes (\"), and any internal double quote is escaped by 2 double quotes (\"\"). New lines are escaped by a backslash followed with an \"n\" character, that is \"\\n\"."
      ]
    },
    {
      "cell_type": "code",
      "source": [
        "!git clone https://github.com/tikendraw/Amazon-review-sentiment-analysis.git\n",
        "!cd Amazon-review-sentiment-analysis"
      ],
      "metadata": {
        "id": "i5BhdkETw-pV"
      },
      "id": "i5BhdkETw-pV",
      "execution_count": null,
      "outputs": []
    },
    {
      "cell_type": "code",
      "execution_count": 2,
      "id": "3f06a868",
      "metadata": {
        "colab": {
          "base_uri": "https://localhost:8080/"
        },
        "id": "3f06a868",
        "outputId": "329d2521-bf2c-4071-cbcd-be8ae57e4839"
      },
      "outputs": [
        {
          "output_type": "stream",
          "name": "stdout",
          "text": [
            "  Preparing metadata (setup.py) ... \u001b[?25l\u001b[?25hdone\n",
            "  Building wheel for wget (setup.py) ... \u001b[?25l\u001b[?25hdone\n",
            "Mounted at /content/drive\n",
            "Tf version:  2.9.2\n",
            "GPU:  0\n"
          ]
        }
      ],
      "source": [
        "import pandas as pd\n",
        "import numpy as np\n",
        "import datetime\n",
        "import tensorflow as tf\n",
        "from tensorflow import keras\n",
        "from sklearn.naive_bayes import MultinomialNB\n",
        "from sklearn.model_selection import train_test_split\n",
        "from sklearn.feature_extraction.text import TfidfVectorizer\n",
        "from sklearn.pipeline import Pipeline\n",
        "from sklearn.metrics import accuracy_score, precision_recall_fscore_support\n",
        "from tensorflow.keras.layers import Embedding ,LSTM, Dense, Dropout, Conv1D, MaxPool1D, BatchNormalization, TextVectorization\n",
        "import matplotlib.pyplot as plt\n",
        "!pip install polars -q\n",
        "import polars as pl\n",
        "!pip install wget -q\n",
        "import wget\n",
        "import tensorflow_hub as hub\n",
        "import os\n",
        "import re\n",
        "import json\n",
        "import tensorflow as tf\n",
        "import tarfile\n",
        "\n",
        "\n",
        "if 'google.colab' in str(get_ipython()):\n",
        "    from google.colab import drive\n",
        "    drive.mount('/content/drive')\n",
        "\n",
        "\n",
        "##importing useful functions\n",
        "!git clone https://github.com/tikendraw/funcyou.git -q\n",
        "\n",
        "from funcyou.metrics import calculate_results\n",
        "# from funcyou.plot import plot_history, compare_histories\n",
        "from funcyou.dataset import download_kaggle_dataset\n",
        "\n",
        "# !pip install tensorflow_hub\n",
        "\n",
        "print('Tf version: ',tf.__version__)\n",
        "print('GPU: ',gpu:= len(tf.config.list_physical_devices('GPU')))\n",
        "\n",
        "os.environ['TF_CPP_MIN_LOG_LEVEL'] = '3' \n",
        "os.environ[\"TFHUB_CACHE_DIR\"] = './tmp/tfhub'\n",
        "\n",
        "if gpu:\n",
        "    tf.config.experimental.set_memory_growth(physical_devices[0], True)\n",
        "\n",
        "\n",
        "use_url = 'https://storage.googleapis.com/tfhub-modules/google/universal-sentence-encoder/4.tar.gz'\n",
        "\n"
      ]
    },
    {
      "cell_type": "code",
      "source": [
        "def download_USEncoder():\n",
        "    try:\n",
        "        print('downloading universal sentence encoder...')\n",
        "        use_filename = wget.download(use_url)\n",
        "\n",
        "        print('Downloaded!')\n",
        "        # Extracting\n",
        "        os.makedirs('universal_sentence_encoder', exist_ok = True)\n",
        "        print('Extracting universal sentence encoder....')\n",
        "        # open file\n",
        "        file = tarfile.open(use_filename)\n",
        "        \n",
        "        # extracting file\n",
        "        file.extractall('./universal_sentence_encoder')\n",
        "        \n",
        "        file.close()\n",
        "        print('Extracted.')\n",
        "    except Exception as e:\n",
        "        print(e)\n"
      ],
      "metadata": {
        "id": "BC3XPV5WtRQ7",
        "outputId": "55ab2667-3cb0-4111-dd01-d7562908bcdb",
        "colab": {
          "base_uri": "https://localhost:8080/"
        }
      },
      "id": "BC3XPV5WtRQ7",
      "execution_count": 7,
      "outputs": [
        {
          "output_type": "stream",
          "name": "stdout",
          "text": [
            "downloading universal sentence encoder...\n",
            "Downloaded!\n",
            "Extracting universal sentence encoder....\n",
            "Extracted.\n"
          ]
        }
      ]
    },
    {
      "cell_type": "code",
      "execution_count": 2,
      "id": "00dd0bdb",
      "metadata": {
        "id": "00dd0bdb"
      },
      "outputs": [],
      "source": [
        "# Download the data if you don't have locally\n",
        "data_url = 'https://www.kaggle.com/datasets/kritanjalijain/amazon-reviews'\n",
        "\n",
        "def download_data(data_url):\n",
        "    download_kaggle_dataset(url = data_url)\n",
        "    print('Dataset Downloaded.')\n",
        "    # #extract \n",
        "    print('Extracting...')\n",
        "    ! mkdir dataset\n",
        "    !unzip amazon-reviews.zip -d dataset\n",
        "    print('Extracted.')\n"
      ]
    },
    {
      "cell_type": "code",
      "execution_count": 3,
      "id": "75178d33-5eca-4c81-9ccf-c0b97586e0c4",
      "metadata": {
        "colab": {
          "base_uri": "https://localhost:8080/"
        },
        "id": "75178d33-5eca-4c81-9ccf-c0b97586e0c4",
        "outputId": "c1585c39-34f8-4f3a-f42f-4bc7350cf0e8"
      },
      "outputs": [
        {
          "output_type": "stream",
          "name": "stdout",
          "text": [
            "Running on CoLab\n",
            "downloading universal sentence encoder...\n",
            "--2023-01-31 07:06:15--  https://storage.googleapis.com/tfhub-modules/google/universal-sentence-encoder/4.tar.gz\n",
            "Resolving storage.googleapis.com (storage.googleapis.com)... 74.125.68.128, 74.125.24.128, 142.250.4.128, ...\n",
            "Connecting to storage.googleapis.com (storage.googleapis.com)|74.125.68.128|:443... connected.\n",
            "HTTP request sent, awaiting response... 200 OK\n",
            "Length: 960367946 (916M) [application/x-tar]\n",
            "Saving to: ‘4.tar.gz’\n",
            "\n",
            "4.tar.gz            100%[===================>] 915.88M  24.1MB/s    in 40s     \n",
            "\n",
            "2023-01-31 07:06:55 (22.9 MB/s) - ‘4.tar.gz’ saved [960367946/960367946]\n",
            "\n",
            "Downloaded universal sentence encoder.\n",
            "Extracting universal sentence encoder....\n",
            "Extracted.\n",
            "Did you upload kaggle.json?(Yes/No) yes\n",
            "Dataset Downloading...\n",
            "kaggle datasets download -d kritanjalijain/amazon-reviews\n",
            "0\n",
            "Dataset Downloaded.\n",
            "Extracting...\n",
            "Archive:  amazon-reviews.zip\n",
            "  inflating: dataset/amazon_review_polarity_csv.tgz  \n",
            "  inflating: dataset/test.csv        \n",
            "  inflating: dataset/train.csv       \n",
            "Extracted.\n"
          ]
        }
      ],
      "source": [
        "if 'google.colab' in str(get_ipython()):\n",
        "    print('Running on CoLab')\n",
        "    download_USEncoder()\n",
        "    download = input('Did you upload kaggle.json?(Yes/No) ')\n",
        "    if download in ['yes','Yes','Y','y']:\n",
        "        print('Dataset Downloading...')\n",
        "        download_data(data_url)\n",
        "    \n",
        "else:\n",
        "  print('Not running on CoLab')\n"
      ]
    },
    {
      "cell_type": "code",
      "execution_count": 4,
      "id": "7ddbeaf5",
      "metadata": {
        "id": "7ddbeaf5"
      },
      "outputs": [],
      "source": [
        "embed = hub.KerasLayer(\"./universal_sentence_encoder\")"
      ]
    },
    {
      "cell_type": "markdown",
      "id": "a5b0fa02",
      "metadata": {
        "id": "a5b0fa02"
      },
      "source": [
        "# Load the data"
      ]
    },
    {
      "cell_type": "code",
      "execution_count": 5,
      "id": "b195bade",
      "metadata": {
        "id": "b195bade"
      },
      "outputs": [],
      "source": [
        "CHUNKSIZE = 1_000_000"
      ]
    },
    {
      "cell_type": "code",
      "execution_count": 6,
      "id": "d2fc7d74",
      "metadata": {
        "colab": {
          "base_uri": "https://localhost:8080/"
        },
        "id": "d2fc7d74",
        "outputId": "08929282-b5a8-4ca7-ba94-be188a42dddc"
      },
      "outputs": [
        {
          "output_type": "stream",
          "name": "stdout",
          "text": [
            "<class 'pandas.core.frame.DataFrame'>\n",
            "RangeIndex: 3600000 entries, 0 to 3599999\n",
            "Data columns (total 3 columns):\n",
            " #   Column    Dtype \n",
            "---  ------    ----- \n",
            " 0   polarity  int64 \n",
            " 1   title     object\n",
            " 2   text      object\n",
            "dtypes: int64(1), object(2)\n",
            "memory usage: 82.4+ MB\n",
            "None\n"
          ]
        }
      ],
      "source": [
        "#reading data\n",
        "tp = pd.read_csv('./dataset/train.csv',names = ['polarity', 'title','text'], iterator=True, chunksize=CHUNKSIZE)  # gives TextFileReader, which is iterable with chunks of 1000 rows.\n",
        "#joining the chunks\n",
        "df = pd.concat(tp, ignore_index=True)\n",
        "#print info\n",
        "print(df.info())"
      ]
    },
    {
      "cell_type": "code",
      "execution_count": 7,
      "id": "Jsn520qsxj6C",
      "metadata": {
        "colab": {
          "base_uri": "https://localhost:8080/"
        },
        "id": "Jsn520qsxj6C",
        "outputId": "c04c5c80-8a58-45f7-ada9-9995a45b7e02"
      },
      "outputs": [
        {
          "output_type": "execute_result",
          "data": {
            "text/plain": [
              "polarity     0\n",
              "title       77\n",
              "text         0\n",
              "dtype: int64"
            ]
          },
          "metadata": {},
          "execution_count": 7
        }
      ],
      "source": [
        "# check for nulls and drop if any\n",
        "df.isnull().sum()"
      ]
    },
    {
      "cell_type": "code",
      "execution_count": 8,
      "id": "a0ml-HHdxvxo",
      "metadata": {
        "id": "a0ml-HHdxvxo"
      },
      "outputs": [],
      "source": [
        "#dropping 77 null titles\n",
        "df.dropna(axis = 0, how = 'any', inplace = True)"
      ]
    },
    {
      "cell_type": "code",
      "execution_count": 9,
      "id": "c672dec5",
      "metadata": {
        "colab": {
          "base_uri": "https://localhost:8080/"
        },
        "id": "c672dec5",
        "outputId": "5c683288-c9ad-4c12-c005-30e17f789dfc"
      },
      "outputs": [
        {
          "output_type": "execute_result",
          "data": {
            "text/plain": [
              "2    1799965\n",
              "1    1799958\n",
              "Name: polarity, dtype: int64"
            ]
          },
          "metadata": {},
          "execution_count": 9
        }
      ],
      "source": [
        "# checking for classs imbalance\n",
        "df['polarity'].value_counts()"
      ]
    },
    {
      "cell_type": "markdown",
      "id": "13db8966",
      "metadata": {
        "id": "13db8966"
      },
      "source": [
        "**Note:** The dataset is fairly large, we will use tensorflow's data api to load and handle the data"
      ]
    },
    {
      "cell_type": "markdown",
      "id": "c168d8cf",
      "metadata": {
        "id": "c168d8cf"
      },
      "source": [
        "# We will map the polarity between 0 for negative sentiment to 1 for positive sentiment"
      ]
    },
    {
      "cell_type": "code",
      "execution_count": 10,
      "id": "f5cac18d",
      "metadata": {
        "id": "f5cac18d"
      },
      "outputs": [],
      "source": [
        "df['polarity'] = df['polarity'].map({1:0, 2:1})\n",
        "df['polarity'] = df['polarity'].astype(np.int8)"
      ]
    },
    {
      "cell_type": "code",
      "execution_count": 11,
      "id": "be973a53",
      "metadata": {
        "colab": {
          "base_uri": "https://localhost:8080/",
          "height": 363
        },
        "id": "be973a53",
        "outputId": "ef7f1ca9-bd28-4089-951b-36554a9db156"
      },
      "outputs": [
        {
          "output_type": "execute_result",
          "data": {
            "text/plain": [
              "         polarity                              title  \\\n",
              "3106096         1  Couldn't live without this toy...   \n",
              "787293          1   most comfortable, secure bandage   \n",
              "910397          0                    Dead on arrival   \n",
              "3085653         0     buy APA format software online   \n",
              "579249          1                       great movie!   \n",
              "981396          0                           Pathetic   \n",
              "1303382         0          Where fore art thou shiv?   \n",
              "2282913         1                             Jacket   \n",
              "1058913         1                       Great basics   \n",
              "2261319         1                     Works perfect.   \n",
              "\n",
              "                                                      text  \n",
              "3106096  This toy is the toy to end all toys...It is su...  \n",
              "787293   this bandage is very flexible and sticks very ...  \n",
              "910397   These batteries have so much problems.Both bat...  \n",
              "3085653  I recommend PERRLA. It's cheaper and it works ...  \n",
              "579249   It is a very good dvd set! Love the quality of...  \n",
              "981396   How dare Eric Clapton! What is up with Clapton...  \n",
              "1303382  I went to the university library to take out a...  \n",
              "2282913  This jacket is great. In fact it is so great I...  \n",
              "1058913  The main feature of the book to me was that I ...  \n",
              "2261319  My wireless DSL router stopped connected to my...  "
            ],
            "text/html": [
              "\n",
              "  <div id=\"df-8064cf53-e83b-43d2-ad44-272f9d4a4dee\">\n",
              "    <div class=\"colab-df-container\">\n",
              "      <div>\n",
              "<style scoped>\n",
              "    .dataframe tbody tr th:only-of-type {\n",
              "        vertical-align: middle;\n",
              "    }\n",
              "\n",
              "    .dataframe tbody tr th {\n",
              "        vertical-align: top;\n",
              "    }\n",
              "\n",
              "    .dataframe thead th {\n",
              "        text-align: right;\n",
              "    }\n",
              "</style>\n",
              "<table border=\"1\" class=\"dataframe\">\n",
              "  <thead>\n",
              "    <tr style=\"text-align: right;\">\n",
              "      <th></th>\n",
              "      <th>polarity</th>\n",
              "      <th>title</th>\n",
              "      <th>text</th>\n",
              "    </tr>\n",
              "  </thead>\n",
              "  <tbody>\n",
              "    <tr>\n",
              "      <th>3106096</th>\n",
              "      <td>1</td>\n",
              "      <td>Couldn't live without this toy...</td>\n",
              "      <td>This toy is the toy to end all toys...It is su...</td>\n",
              "    </tr>\n",
              "    <tr>\n",
              "      <th>787293</th>\n",
              "      <td>1</td>\n",
              "      <td>most comfortable, secure bandage</td>\n",
              "      <td>this bandage is very flexible and sticks very ...</td>\n",
              "    </tr>\n",
              "    <tr>\n",
              "      <th>910397</th>\n",
              "      <td>0</td>\n",
              "      <td>Dead on arrival</td>\n",
              "      <td>These batteries have so much problems.Both bat...</td>\n",
              "    </tr>\n",
              "    <tr>\n",
              "      <th>3085653</th>\n",
              "      <td>0</td>\n",
              "      <td>buy APA format software online</td>\n",
              "      <td>I recommend PERRLA. It's cheaper and it works ...</td>\n",
              "    </tr>\n",
              "    <tr>\n",
              "      <th>579249</th>\n",
              "      <td>1</td>\n",
              "      <td>great movie!</td>\n",
              "      <td>It is a very good dvd set! Love the quality of...</td>\n",
              "    </tr>\n",
              "    <tr>\n",
              "      <th>981396</th>\n",
              "      <td>0</td>\n",
              "      <td>Pathetic</td>\n",
              "      <td>How dare Eric Clapton! What is up with Clapton...</td>\n",
              "    </tr>\n",
              "    <tr>\n",
              "      <th>1303382</th>\n",
              "      <td>0</td>\n",
              "      <td>Where fore art thou shiv?</td>\n",
              "      <td>I went to the university library to take out a...</td>\n",
              "    </tr>\n",
              "    <tr>\n",
              "      <th>2282913</th>\n",
              "      <td>1</td>\n",
              "      <td>Jacket</td>\n",
              "      <td>This jacket is great. In fact it is so great I...</td>\n",
              "    </tr>\n",
              "    <tr>\n",
              "      <th>1058913</th>\n",
              "      <td>1</td>\n",
              "      <td>Great basics</td>\n",
              "      <td>The main feature of the book to me was that I ...</td>\n",
              "    </tr>\n",
              "    <tr>\n",
              "      <th>2261319</th>\n",
              "      <td>1</td>\n",
              "      <td>Works perfect.</td>\n",
              "      <td>My wireless DSL router stopped connected to my...</td>\n",
              "    </tr>\n",
              "  </tbody>\n",
              "</table>\n",
              "</div>\n",
              "      <button class=\"colab-df-convert\" onclick=\"convertToInteractive('df-8064cf53-e83b-43d2-ad44-272f9d4a4dee')\"\n",
              "              title=\"Convert this dataframe to an interactive table.\"\n",
              "              style=\"display:none;\">\n",
              "        \n",
              "  <svg xmlns=\"http://www.w3.org/2000/svg\" height=\"24px\"viewBox=\"0 0 24 24\"\n",
              "       width=\"24px\">\n",
              "    <path d=\"M0 0h24v24H0V0z\" fill=\"none\"/>\n",
              "    <path d=\"M18.56 5.44l.94 2.06.94-2.06 2.06-.94-2.06-.94-.94-2.06-.94 2.06-2.06.94zm-11 1L8.5 8.5l.94-2.06 2.06-.94-2.06-.94L8.5 2.5l-.94 2.06-2.06.94zm10 10l.94 2.06.94-2.06 2.06-.94-2.06-.94-.94-2.06-.94 2.06-2.06.94z\"/><path d=\"M17.41 7.96l-1.37-1.37c-.4-.4-.92-.59-1.43-.59-.52 0-1.04.2-1.43.59L10.3 9.45l-7.72 7.72c-.78.78-.78 2.05 0 2.83L4 21.41c.39.39.9.59 1.41.59.51 0 1.02-.2 1.41-.59l7.78-7.78 2.81-2.81c.8-.78.8-2.07 0-2.86zM5.41 20L4 18.59l7.72-7.72 1.47 1.35L5.41 20z\"/>\n",
              "  </svg>\n",
              "      </button>\n",
              "      \n",
              "  <style>\n",
              "    .colab-df-container {\n",
              "      display:flex;\n",
              "      flex-wrap:wrap;\n",
              "      gap: 12px;\n",
              "    }\n",
              "\n",
              "    .colab-df-convert {\n",
              "      background-color: #E8F0FE;\n",
              "      border: none;\n",
              "      border-radius: 50%;\n",
              "      cursor: pointer;\n",
              "      display: none;\n",
              "      fill: #1967D2;\n",
              "      height: 32px;\n",
              "      padding: 0 0 0 0;\n",
              "      width: 32px;\n",
              "    }\n",
              "\n",
              "    .colab-df-convert:hover {\n",
              "      background-color: #E2EBFA;\n",
              "      box-shadow: 0px 1px 2px rgba(60, 64, 67, 0.3), 0px 1px 3px 1px rgba(60, 64, 67, 0.15);\n",
              "      fill: #174EA6;\n",
              "    }\n",
              "\n",
              "    [theme=dark] .colab-df-convert {\n",
              "      background-color: #3B4455;\n",
              "      fill: #D2E3FC;\n",
              "    }\n",
              "\n",
              "    [theme=dark] .colab-df-convert:hover {\n",
              "      background-color: #434B5C;\n",
              "      box-shadow: 0px 1px 3px 1px rgba(0, 0, 0, 0.15);\n",
              "      filter: drop-shadow(0px 1px 2px rgba(0, 0, 0, 0.3));\n",
              "      fill: #FFFFFF;\n",
              "    }\n",
              "  </style>\n",
              "\n",
              "      <script>\n",
              "        const buttonEl =\n",
              "          document.querySelector('#df-8064cf53-e83b-43d2-ad44-272f9d4a4dee button.colab-df-convert');\n",
              "        buttonEl.style.display =\n",
              "          google.colab.kernel.accessAllowed ? 'block' : 'none';\n",
              "\n",
              "        async function convertToInteractive(key) {\n",
              "          const element = document.querySelector('#df-8064cf53-e83b-43d2-ad44-272f9d4a4dee');\n",
              "          const dataTable =\n",
              "            await google.colab.kernel.invokeFunction('convertToInteractive',\n",
              "                                                     [key], {});\n",
              "          if (!dataTable) return;\n",
              "\n",
              "          const docLinkHtml = 'Like what you see? Visit the ' +\n",
              "            '<a target=\"_blank\" href=https://colab.research.google.com/notebooks/data_table.ipynb>data table notebook</a>'\n",
              "            + ' to learn more about interactive tables.';\n",
              "          element.innerHTML = '';\n",
              "          dataTable['output_type'] = 'display_data';\n",
              "          await google.colab.output.renderOutput(dataTable, element);\n",
              "          const docLink = document.createElement('div');\n",
              "          docLink.innerHTML = docLinkHtml;\n",
              "          element.appendChild(docLink);\n",
              "        }\n",
              "      </script>\n",
              "    </div>\n",
              "  </div>\n",
              "  "
            ]
          },
          "metadata": {},
          "execution_count": 11
        }
      ],
      "source": [
        "df.sample(10)"
      ]
    },
    {
      "cell_type": "code",
      "execution_count": 12,
      "id": "a73b90f9",
      "metadata": {
        "colab": {
          "base_uri": "https://localhost:8080/"
        },
        "id": "a73b90f9",
        "outputId": "8a4c10f4-b780-4b93-f94a-c302e8340334"
      },
      "outputs": [
        {
          "output_type": "stream",
          "name": "stdout",
          "text": [
            "<class 'pandas.core.frame.DataFrame'>\n",
            "Int64Index: 3599923 entries, 0 to 3599999\n",
            "Data columns (total 3 columns):\n",
            " #   Column    Dtype \n",
            "---  ------    ----- \n",
            " 0   polarity  int8  \n",
            " 1   title     object\n",
            " 2   text      object\n",
            "dtypes: int8(1), object(2)\n",
            "memory usage: 85.8+ MB\n"
          ]
        }
      ],
      "source": [
        "df.info()"
      ]
    },
    {
      "cell_type": "markdown",
      "id": "de08710a",
      "metadata": {
        "id": "de08710a"
      },
      "source": [
        "## Note: We will be combining text and title columns . makes more sense."
      ]
    },
    {
      "cell_type": "code",
      "execution_count": 13,
      "id": "cfa3949d",
      "metadata": {
        "id": "cfa3949d"
      },
      "outputs": [],
      "source": [
        "#preprocessing functions to clear punctuations, lower strings, remove special chars removing contractions\n",
        "from funcyou.preprocessing.text import  text_cleaning_apos, cont_to_exp, text_cleaning\n",
        "\n",
        "\n",
        "def clean_all(text):\n",
        "    text = text_cleaning_apos(text)\n",
        "    text = cont_to_exp(text)\n",
        "    text = text_cleaning(text)\n",
        "    return text"
      ]
    },
    {
      "cell_type": "code",
      "execution_count": 14,
      "id": "26892e90",
      "metadata": {
        "colab": {
          "base_uri": "https://localhost:8080/"
        },
        "id": "26892e90",
        "outputId": "a4bba50e-02a6-427f-fdc7-5f69955aa769"
      },
      "outputs": [
        {
          "output_type": "stream",
          "name": "stdout",
          "text": [
            "Started at:  07:09:05\n",
            "This cell takes 10 minutes to process 3.6M data\n",
            "CPU times: user 1.46 s, sys: 917 ms, total: 2.37 s\n",
            "Wall time: 2.38 s\n"
          ]
        }
      ],
      "source": [
        "%%time\n",
        "print('Started at: ',datetime.datetime.now().strftime(\"%H:%M:%S\"))\n",
        "print('This cell takes 10 minutes to process 3.6M data')\n",
        "#joining columns and cleaning the text \n",
        "df['review'] = df['title']+' ' + df['text']\n",
        "# df['review'] = df['review'].apply(clean_all)\n",
        "df['review'] = df['review'].astype(np.object_)\n"
      ]
    },
    {
      "cell_type": "code",
      "execution_count": 15,
      "id": "O9mHCcldyNVP",
      "metadata": {
        "colab": {
          "base_uri": "https://localhost:8080/"
        },
        "id": "O9mHCcldyNVP",
        "outputId": "162cd5ac-bae6-4c74-f9b6-7e5701c1c8c9"
      },
      "outputs": [
        {
          "output_type": "execute_result",
          "data": {
            "text/plain": [
              "dtype('O')"
            ]
          },
          "metadata": {},
          "execution_count": 15
        }
      ],
      "source": [
        "df.review.sample(1).values.dtype"
      ]
    },
    {
      "cell_type": "code",
      "execution_count": 16,
      "id": "419c7412",
      "metadata": {
        "colab": {
          "base_uri": "https://localhost:8080/",
          "height": 206
        },
        "id": "419c7412",
        "outputId": "f7c8771d-d2a1-4076-ddec-1044f5390b92"
      },
      "outputs": [
        {
          "output_type": "execute_result",
          "data": {
            "text/plain": [
              "   polarity                                              title  \\\n",
              "0         1                     Stuning even for the non-gamer   \n",
              "1         1              The best soundtrack ever to anything.   \n",
              "2         1                                           Amazing!   \n",
              "3         1                               Excellent Soundtrack   \n",
              "4         1  Remember, Pull Your Jaw Off The Floor After He...   \n",
              "\n",
              "                                                text  \\\n",
              "0  This sound track was beautiful! It paints the ...   \n",
              "1  I'm reading a lot of reviews saying that this ...   \n",
              "2  This soundtrack is my favorite music of all ti...   \n",
              "3  I truly like this soundtrack and I enjoy video...   \n",
              "4  If you've played the game, you know how divine...   \n",
              "\n",
              "                                              review  \n",
              "0  Stuning even for the non-gamer This sound trac...  \n",
              "1  The best soundtrack ever to anything. I'm read...  \n",
              "2  Amazing! This soundtrack is my favorite music ...  \n",
              "3  Excellent Soundtrack I truly like this soundtr...  \n",
              "4  Remember, Pull Your Jaw Off The Floor After He...  "
            ],
            "text/html": [
              "\n",
              "  <div id=\"df-c03f4186-2062-4059-818f-97ff1e61d12f\">\n",
              "    <div class=\"colab-df-container\">\n",
              "      <div>\n",
              "<style scoped>\n",
              "    .dataframe tbody tr th:only-of-type {\n",
              "        vertical-align: middle;\n",
              "    }\n",
              "\n",
              "    .dataframe tbody tr th {\n",
              "        vertical-align: top;\n",
              "    }\n",
              "\n",
              "    .dataframe thead th {\n",
              "        text-align: right;\n",
              "    }\n",
              "</style>\n",
              "<table border=\"1\" class=\"dataframe\">\n",
              "  <thead>\n",
              "    <tr style=\"text-align: right;\">\n",
              "      <th></th>\n",
              "      <th>polarity</th>\n",
              "      <th>title</th>\n",
              "      <th>text</th>\n",
              "      <th>review</th>\n",
              "    </tr>\n",
              "  </thead>\n",
              "  <tbody>\n",
              "    <tr>\n",
              "      <th>0</th>\n",
              "      <td>1</td>\n",
              "      <td>Stuning even for the non-gamer</td>\n",
              "      <td>This sound track was beautiful! It paints the ...</td>\n",
              "      <td>Stuning even for the non-gamer This sound trac...</td>\n",
              "    </tr>\n",
              "    <tr>\n",
              "      <th>1</th>\n",
              "      <td>1</td>\n",
              "      <td>The best soundtrack ever to anything.</td>\n",
              "      <td>I'm reading a lot of reviews saying that this ...</td>\n",
              "      <td>The best soundtrack ever to anything. I'm read...</td>\n",
              "    </tr>\n",
              "    <tr>\n",
              "      <th>2</th>\n",
              "      <td>1</td>\n",
              "      <td>Amazing!</td>\n",
              "      <td>This soundtrack is my favorite music of all ti...</td>\n",
              "      <td>Amazing! This soundtrack is my favorite music ...</td>\n",
              "    </tr>\n",
              "    <tr>\n",
              "      <th>3</th>\n",
              "      <td>1</td>\n",
              "      <td>Excellent Soundtrack</td>\n",
              "      <td>I truly like this soundtrack and I enjoy video...</td>\n",
              "      <td>Excellent Soundtrack I truly like this soundtr...</td>\n",
              "    </tr>\n",
              "    <tr>\n",
              "      <th>4</th>\n",
              "      <td>1</td>\n",
              "      <td>Remember, Pull Your Jaw Off The Floor After He...</td>\n",
              "      <td>If you've played the game, you know how divine...</td>\n",
              "      <td>Remember, Pull Your Jaw Off The Floor After He...</td>\n",
              "    </tr>\n",
              "  </tbody>\n",
              "</table>\n",
              "</div>\n",
              "      <button class=\"colab-df-convert\" onclick=\"convertToInteractive('df-c03f4186-2062-4059-818f-97ff1e61d12f')\"\n",
              "              title=\"Convert this dataframe to an interactive table.\"\n",
              "              style=\"display:none;\">\n",
              "        \n",
              "  <svg xmlns=\"http://www.w3.org/2000/svg\" height=\"24px\"viewBox=\"0 0 24 24\"\n",
              "       width=\"24px\">\n",
              "    <path d=\"M0 0h24v24H0V0z\" fill=\"none\"/>\n",
              "    <path d=\"M18.56 5.44l.94 2.06.94-2.06 2.06-.94-2.06-.94-.94-2.06-.94 2.06-2.06.94zm-11 1L8.5 8.5l.94-2.06 2.06-.94-2.06-.94L8.5 2.5l-.94 2.06-2.06.94zm10 10l.94 2.06.94-2.06 2.06-.94-2.06-.94-.94-2.06-.94 2.06-2.06.94z\"/><path d=\"M17.41 7.96l-1.37-1.37c-.4-.4-.92-.59-1.43-.59-.52 0-1.04.2-1.43.59L10.3 9.45l-7.72 7.72c-.78.78-.78 2.05 0 2.83L4 21.41c.39.39.9.59 1.41.59.51 0 1.02-.2 1.41-.59l7.78-7.78 2.81-2.81c.8-.78.8-2.07 0-2.86zM5.41 20L4 18.59l7.72-7.72 1.47 1.35L5.41 20z\"/>\n",
              "  </svg>\n",
              "      </button>\n",
              "      \n",
              "  <style>\n",
              "    .colab-df-container {\n",
              "      display:flex;\n",
              "      flex-wrap:wrap;\n",
              "      gap: 12px;\n",
              "    }\n",
              "\n",
              "    .colab-df-convert {\n",
              "      background-color: #E8F0FE;\n",
              "      border: none;\n",
              "      border-radius: 50%;\n",
              "      cursor: pointer;\n",
              "      display: none;\n",
              "      fill: #1967D2;\n",
              "      height: 32px;\n",
              "      padding: 0 0 0 0;\n",
              "      width: 32px;\n",
              "    }\n",
              "\n",
              "    .colab-df-convert:hover {\n",
              "      background-color: #E2EBFA;\n",
              "      box-shadow: 0px 1px 2px rgba(60, 64, 67, 0.3), 0px 1px 3px 1px rgba(60, 64, 67, 0.15);\n",
              "      fill: #174EA6;\n",
              "    }\n",
              "\n",
              "    [theme=dark] .colab-df-convert {\n",
              "      background-color: #3B4455;\n",
              "      fill: #D2E3FC;\n",
              "    }\n",
              "\n",
              "    [theme=dark] .colab-df-convert:hover {\n",
              "      background-color: #434B5C;\n",
              "      box-shadow: 0px 1px 3px 1px rgba(0, 0, 0, 0.15);\n",
              "      filter: drop-shadow(0px 1px 2px rgba(0, 0, 0, 0.3));\n",
              "      fill: #FFFFFF;\n",
              "    }\n",
              "  </style>\n",
              "\n",
              "      <script>\n",
              "        const buttonEl =\n",
              "          document.querySelector('#df-c03f4186-2062-4059-818f-97ff1e61d12f button.colab-df-convert');\n",
              "        buttonEl.style.display =\n",
              "          google.colab.kernel.accessAllowed ? 'block' : 'none';\n",
              "\n",
              "        async function convertToInteractive(key) {\n",
              "          const element = document.querySelector('#df-c03f4186-2062-4059-818f-97ff1e61d12f');\n",
              "          const dataTable =\n",
              "            await google.colab.kernel.invokeFunction('convertToInteractive',\n",
              "                                                     [key], {});\n",
              "          if (!dataTable) return;\n",
              "\n",
              "          const docLinkHtml = 'Like what you see? Visit the ' +\n",
              "            '<a target=\"_blank\" href=https://colab.research.google.com/notebooks/data_table.ipynb>data table notebook</a>'\n",
              "            + ' to learn more about interactive tables.';\n",
              "          element.innerHTML = '';\n",
              "          dataTable['output_type'] = 'display_data';\n",
              "          await google.colab.output.renderOutput(dataTable, element);\n",
              "          const docLink = document.createElement('div');\n",
              "          docLink.innerHTML = docLinkHtml;\n",
              "          element.appendChild(docLink);\n",
              "        }\n",
              "      </script>\n",
              "    </div>\n",
              "  </div>\n",
              "  "
            ]
          },
          "metadata": {},
          "execution_count": 16
        }
      ],
      "source": [
        "df.head()"
      ]
    },
    {
      "cell_type": "markdown",
      "id": "c231647e",
      "metadata": {
        "id": "c231647e"
      },
      "source": [
        "A dataframe to store results"
      ]
    },
    {
      "cell_type": "code",
      "execution_count": 17,
      "id": "445aac9f",
      "metadata": {
        "id": "445aac9f"
      },
      "outputs": [],
      "source": [
        "#creating a dataframe to store results\n",
        "all_result = pd.DataFrame(columns=['model','accuracy','precision','recall','f1','discription'])"
      ]
    },
    {
      "cell_type": "code",
      "execution_count": 18,
      "id": "9301f9e0",
      "metadata": {
        "id": "9301f9e0"
      },
      "outputs": [],
      "source": [
        "def add_to_big_result(res:dict):\n",
        "    global all_result\n",
        "    res = pd.DataFrame([res])\n",
        "    all_result = pd.concat([all_result, res], ignore_index=True)\n",
        "    print(all_result)\n",
        "    return all_result"
      ]
    },
    {
      "cell_type": "markdown",
      "id": "8-MfHWr8vVq6",
      "metadata": {
        "id": "8-MfHWr8vVq6"
      },
      "source": [
        "# Data Preparation"
      ]
    },
    {
      "cell_type": "code",
      "execution_count": 19,
      "id": "b0611993",
      "metadata": {
        "colab": {
          "base_uri": "https://localhost:8080/"
        },
        "id": "b0611993",
        "outputId": "6ddb6e05-7a6e-4fdd-cb52-1b6862d314c5"
      },
      "outputs": [
        {
          "output_type": "stream",
          "name": "stdout",
          "text": [
            "xtrain shape (3416506, 1) ytrain shape (3416506,)\n",
            "xtest shape (3600, 1) ytest shape (3600,)\n",
            "xval shape (179817, 1) yval shape (179817,)\n"
          ]
        }
      ],
      "source": [
        "xtrain, xtest, ytrain, ytest = train_test_split( df[['review']], df['polarity'], test_size=  .001, stratify=df['polarity'], random_state = 89)\n",
        "xtrain, xval, ytrain, yval = train_test_split( xtrain, ytrain, test_size=  .05, stratify=ytrain,random_state = 89)\n",
        "\n",
        "print('xtrain shape',xtrain.shape, 'ytrain shape', ytrain.shape)\n",
        "print('xtest shape',xtest.shape, 'ytest shape', ytest.shape)\n",
        "print('xval shape',xval.shape, 'yval shape', yval.shape)"
      ]
    },
    {
      "cell_type": "code",
      "execution_count": 20,
      "id": "3c9ea8eb",
      "metadata": {
        "colab": {
          "base_uri": "https://localhost:8080/",
          "height": 206
        },
        "id": "3c9ea8eb",
        "outputId": "f415eac8-1837-4073-dcc9-c148f4e75c2e"
      },
      "outputs": [
        {
          "output_type": "execute_result",
          "data": {
            "text/plain": [
              "                                                    review\n",
              "2609501  stinks I tried to set this up on my system and...\n",
              "2474900  A saint in our lifetime Saints aren't just tho...\n",
              "2243902  Just buy the CD \"Revival\" I was sooooo excited...\n",
              "14778    Had potential but didn't reach it I'm just an ...\n",
              "1522869  TH excellent mais vous me ,pétez les couilles ..."
            ],
            "text/html": [
              "\n",
              "  <div id=\"df-68ff49c0-3c6c-4335-92ea-e6d46201c4c2\">\n",
              "    <div class=\"colab-df-container\">\n",
              "      <div>\n",
              "<style scoped>\n",
              "    .dataframe tbody tr th:only-of-type {\n",
              "        vertical-align: middle;\n",
              "    }\n",
              "\n",
              "    .dataframe tbody tr th {\n",
              "        vertical-align: top;\n",
              "    }\n",
              "\n",
              "    .dataframe thead th {\n",
              "        text-align: right;\n",
              "    }\n",
              "</style>\n",
              "<table border=\"1\" class=\"dataframe\">\n",
              "  <thead>\n",
              "    <tr style=\"text-align: right;\">\n",
              "      <th></th>\n",
              "      <th>review</th>\n",
              "    </tr>\n",
              "  </thead>\n",
              "  <tbody>\n",
              "    <tr>\n",
              "      <th>2609501</th>\n",
              "      <td>stinks I tried to set this up on my system and...</td>\n",
              "    </tr>\n",
              "    <tr>\n",
              "      <th>2474900</th>\n",
              "      <td>A saint in our lifetime Saints aren't just tho...</td>\n",
              "    </tr>\n",
              "    <tr>\n",
              "      <th>2243902</th>\n",
              "      <td>Just buy the CD \"Revival\" I was sooooo excited...</td>\n",
              "    </tr>\n",
              "    <tr>\n",
              "      <th>14778</th>\n",
              "      <td>Had potential but didn't reach it I'm just an ...</td>\n",
              "    </tr>\n",
              "    <tr>\n",
              "      <th>1522869</th>\n",
              "      <td>TH excellent mais vous me ,pétez les couilles ...</td>\n",
              "    </tr>\n",
              "  </tbody>\n",
              "</table>\n",
              "</div>\n",
              "      <button class=\"colab-df-convert\" onclick=\"convertToInteractive('df-68ff49c0-3c6c-4335-92ea-e6d46201c4c2')\"\n",
              "              title=\"Convert this dataframe to an interactive table.\"\n",
              "              style=\"display:none;\">\n",
              "        \n",
              "  <svg xmlns=\"http://www.w3.org/2000/svg\" height=\"24px\"viewBox=\"0 0 24 24\"\n",
              "       width=\"24px\">\n",
              "    <path d=\"M0 0h24v24H0V0z\" fill=\"none\"/>\n",
              "    <path d=\"M18.56 5.44l.94 2.06.94-2.06 2.06-.94-2.06-.94-.94-2.06-.94 2.06-2.06.94zm-11 1L8.5 8.5l.94-2.06 2.06-.94-2.06-.94L8.5 2.5l-.94 2.06-2.06.94zm10 10l.94 2.06.94-2.06 2.06-.94-2.06-.94-.94-2.06-.94 2.06-2.06.94z\"/><path d=\"M17.41 7.96l-1.37-1.37c-.4-.4-.92-.59-1.43-.59-.52 0-1.04.2-1.43.59L10.3 9.45l-7.72 7.72c-.78.78-.78 2.05 0 2.83L4 21.41c.39.39.9.59 1.41.59.51 0 1.02-.2 1.41-.59l7.78-7.78 2.81-2.81c.8-.78.8-2.07 0-2.86zM5.41 20L4 18.59l7.72-7.72 1.47 1.35L5.41 20z\"/>\n",
              "  </svg>\n",
              "      </button>\n",
              "      \n",
              "  <style>\n",
              "    .colab-df-container {\n",
              "      display:flex;\n",
              "      flex-wrap:wrap;\n",
              "      gap: 12px;\n",
              "    }\n",
              "\n",
              "    .colab-df-convert {\n",
              "      background-color: #E8F0FE;\n",
              "      border: none;\n",
              "      border-radius: 50%;\n",
              "      cursor: pointer;\n",
              "      display: none;\n",
              "      fill: #1967D2;\n",
              "      height: 32px;\n",
              "      padding: 0 0 0 0;\n",
              "      width: 32px;\n",
              "    }\n",
              "\n",
              "    .colab-df-convert:hover {\n",
              "      background-color: #E2EBFA;\n",
              "      box-shadow: 0px 1px 2px rgba(60, 64, 67, 0.3), 0px 1px 3px 1px rgba(60, 64, 67, 0.15);\n",
              "      fill: #174EA6;\n",
              "    }\n",
              "\n",
              "    [theme=dark] .colab-df-convert {\n",
              "      background-color: #3B4455;\n",
              "      fill: #D2E3FC;\n",
              "    }\n",
              "\n",
              "    [theme=dark] .colab-df-convert:hover {\n",
              "      background-color: #434B5C;\n",
              "      box-shadow: 0px 1px 3px 1px rgba(0, 0, 0, 0.15);\n",
              "      filter: drop-shadow(0px 1px 2px rgba(0, 0, 0, 0.3));\n",
              "      fill: #FFFFFF;\n",
              "    }\n",
              "  </style>\n",
              "\n",
              "      <script>\n",
              "        const buttonEl =\n",
              "          document.querySelector('#df-68ff49c0-3c6c-4335-92ea-e6d46201c4c2 button.colab-df-convert');\n",
              "        buttonEl.style.display =\n",
              "          google.colab.kernel.accessAllowed ? 'block' : 'none';\n",
              "\n",
              "        async function convertToInteractive(key) {\n",
              "          const element = document.querySelector('#df-68ff49c0-3c6c-4335-92ea-e6d46201c4c2');\n",
              "          const dataTable =\n",
              "            await google.colab.kernel.invokeFunction('convertToInteractive',\n",
              "                                                     [key], {});\n",
              "          if (!dataTable) return;\n",
              "\n",
              "          const docLinkHtml = 'Like what you see? Visit the ' +\n",
              "            '<a target=\"_blank\" href=https://colab.research.google.com/notebooks/data_table.ipynb>data table notebook</a>'\n",
              "            + ' to learn more about interactive tables.';\n",
              "          element.innerHTML = '';\n",
              "          dataTable['output_type'] = 'display_data';\n",
              "          await google.colab.output.renderOutput(dataTable, element);\n",
              "          const docLink = document.createElement('div');\n",
              "          docLink.innerHTML = docLinkHtml;\n",
              "          element.appendChild(docLink);\n",
              "        }\n",
              "      </script>\n",
              "    </div>\n",
              "  </div>\n",
              "  "
            ]
          },
          "metadata": {},
          "execution_count": 20
        }
      ],
      "source": [
        "del(df) # deleting variables to keep the memory free\n",
        "xtrain.head()"
      ]
    },
    {
      "cell_type": "code",
      "execution_count": 21,
      "id": "d479ed60",
      "metadata": {
        "colab": {
          "base_uri": "https://localhost:8080/"
        },
        "id": "d479ed60",
        "outputId": "0e841b55-6a4d-41c9-e841-8c69536a54d2"
      },
      "outputs": [
        {
          "output_type": "stream",
          "name": "stdout",
          "text": [
            "<class 'pandas.core.frame.DataFrame'>\n",
            "Int64Index: 3416506 entries, 2609501 to 3354793\n",
            "Data columns (total 1 columns):\n",
            " #   Column  Dtype \n",
            "---  ------  ----- \n",
            " 0   review  object\n",
            "dtypes: object(1)\n",
            "memory usage: 52.1+ MB\n"
          ]
        }
      ],
      "source": [
        "xtrain.info()"
      ]
    },
    {
      "cell_type": "code",
      "execution_count": 22,
      "id": "a6c94f11",
      "metadata": {
        "colab": {
          "base_uri": "https://localhost:8080/"
        },
        "id": "a6c94f11",
        "outputId": "7c1d51cd-0c09-4db6-ab4d-5cb00f605d3b"
      },
      "outputs": [
        {
          "output_type": "execute_result",
          "data": {
            "text/plain": [
              "2609501    0\n",
              "2474900    1\n",
              "2243902    0\n",
              "14778      0\n",
              "1522869    1\n",
              "Name: polarity, dtype: int8"
            ]
          },
          "metadata": {},
          "execution_count": 22
        }
      ],
      "source": [
        "ytrain.head()"
      ]
    },
    {
      "cell_type": "markdown",
      "id": "d9c7fbc7",
      "metadata": {
        "id": "d9c7fbc7"
      },
      "source": [
        "# Creating tensorflow dataset using `tf.data` api"
      ]
    },
    {
      "cell_type": "code",
      "execution_count": 23,
      "id": "AYPRoiWsxXHj",
      "metadata": {
        "colab": {
          "base_uri": "https://localhost:8080/",
          "height": 206
        },
        "id": "AYPRoiWsxXHj",
        "outputId": "a8f23753-32c2-4c55-e2c2-d87c5302d4e8"
      },
      "outputs": [
        {
          "output_type": "execute_result",
          "data": {
            "text/plain": [
              "                                                    review\n",
              "2609501  stinks I tried to set this up on my system and...\n",
              "2474900  A saint in our lifetime Saints aren't just tho...\n",
              "2243902  Just buy the CD \"Revival\" I was sooooo excited...\n",
              "14778    Had potential but didn't reach it I'm just an ...\n",
              "1522869  TH excellent mais vous me ,pétez les couilles ..."
            ],
            "text/html": [
              "\n",
              "  <div id=\"df-f6536cbb-de01-435b-9149-406b32b2c21c\">\n",
              "    <div class=\"colab-df-container\">\n",
              "      <div>\n",
              "<style scoped>\n",
              "    .dataframe tbody tr th:only-of-type {\n",
              "        vertical-align: middle;\n",
              "    }\n",
              "\n",
              "    .dataframe tbody tr th {\n",
              "        vertical-align: top;\n",
              "    }\n",
              "\n",
              "    .dataframe thead th {\n",
              "        text-align: right;\n",
              "    }\n",
              "</style>\n",
              "<table border=\"1\" class=\"dataframe\">\n",
              "  <thead>\n",
              "    <tr style=\"text-align: right;\">\n",
              "      <th></th>\n",
              "      <th>review</th>\n",
              "    </tr>\n",
              "  </thead>\n",
              "  <tbody>\n",
              "    <tr>\n",
              "      <th>2609501</th>\n",
              "      <td>stinks I tried to set this up on my system and...</td>\n",
              "    </tr>\n",
              "    <tr>\n",
              "      <th>2474900</th>\n",
              "      <td>A saint in our lifetime Saints aren't just tho...</td>\n",
              "    </tr>\n",
              "    <tr>\n",
              "      <th>2243902</th>\n",
              "      <td>Just buy the CD \"Revival\" I was sooooo excited...</td>\n",
              "    </tr>\n",
              "    <tr>\n",
              "      <th>14778</th>\n",
              "      <td>Had potential but didn't reach it I'm just an ...</td>\n",
              "    </tr>\n",
              "    <tr>\n",
              "      <th>1522869</th>\n",
              "      <td>TH excellent mais vous me ,pétez les couilles ...</td>\n",
              "    </tr>\n",
              "  </tbody>\n",
              "</table>\n",
              "</div>\n",
              "      <button class=\"colab-df-convert\" onclick=\"convertToInteractive('df-f6536cbb-de01-435b-9149-406b32b2c21c')\"\n",
              "              title=\"Convert this dataframe to an interactive table.\"\n",
              "              style=\"display:none;\">\n",
              "        \n",
              "  <svg xmlns=\"http://www.w3.org/2000/svg\" height=\"24px\"viewBox=\"0 0 24 24\"\n",
              "       width=\"24px\">\n",
              "    <path d=\"M0 0h24v24H0V0z\" fill=\"none\"/>\n",
              "    <path d=\"M18.56 5.44l.94 2.06.94-2.06 2.06-.94-2.06-.94-.94-2.06-.94 2.06-2.06.94zm-11 1L8.5 8.5l.94-2.06 2.06-.94-2.06-.94L8.5 2.5l-.94 2.06-2.06.94zm10 10l.94 2.06.94-2.06 2.06-.94-2.06-.94-.94-2.06-.94 2.06-2.06.94z\"/><path d=\"M17.41 7.96l-1.37-1.37c-.4-.4-.92-.59-1.43-.59-.52 0-1.04.2-1.43.59L10.3 9.45l-7.72 7.72c-.78.78-.78 2.05 0 2.83L4 21.41c.39.39.9.59 1.41.59.51 0 1.02-.2 1.41-.59l7.78-7.78 2.81-2.81c.8-.78.8-2.07 0-2.86zM5.41 20L4 18.59l7.72-7.72 1.47 1.35L5.41 20z\"/>\n",
              "  </svg>\n",
              "      </button>\n",
              "      \n",
              "  <style>\n",
              "    .colab-df-container {\n",
              "      display:flex;\n",
              "      flex-wrap:wrap;\n",
              "      gap: 12px;\n",
              "    }\n",
              "\n",
              "    .colab-df-convert {\n",
              "      background-color: #E8F0FE;\n",
              "      border: none;\n",
              "      border-radius: 50%;\n",
              "      cursor: pointer;\n",
              "      display: none;\n",
              "      fill: #1967D2;\n",
              "      height: 32px;\n",
              "      padding: 0 0 0 0;\n",
              "      width: 32px;\n",
              "    }\n",
              "\n",
              "    .colab-df-convert:hover {\n",
              "      background-color: #E2EBFA;\n",
              "      box-shadow: 0px 1px 2px rgba(60, 64, 67, 0.3), 0px 1px 3px 1px rgba(60, 64, 67, 0.15);\n",
              "      fill: #174EA6;\n",
              "    }\n",
              "\n",
              "    [theme=dark] .colab-df-convert {\n",
              "      background-color: #3B4455;\n",
              "      fill: #D2E3FC;\n",
              "    }\n",
              "\n",
              "    [theme=dark] .colab-df-convert:hover {\n",
              "      background-color: #434B5C;\n",
              "      box-shadow: 0px 1px 3px 1px rgba(0, 0, 0, 0.15);\n",
              "      filter: drop-shadow(0px 1px 2px rgba(0, 0, 0, 0.3));\n",
              "      fill: #FFFFFF;\n",
              "    }\n",
              "  </style>\n",
              "\n",
              "      <script>\n",
              "        const buttonEl =\n",
              "          document.querySelector('#df-f6536cbb-de01-435b-9149-406b32b2c21c button.colab-df-convert');\n",
              "        buttonEl.style.display =\n",
              "          google.colab.kernel.accessAllowed ? 'block' : 'none';\n",
              "\n",
              "        async function convertToInteractive(key) {\n",
              "          const element = document.querySelector('#df-f6536cbb-de01-435b-9149-406b32b2c21c');\n",
              "          const dataTable =\n",
              "            await google.colab.kernel.invokeFunction('convertToInteractive',\n",
              "                                                     [key], {});\n",
              "          if (!dataTable) return;\n",
              "\n",
              "          const docLinkHtml = 'Like what you see? Visit the ' +\n",
              "            '<a target=\"_blank\" href=https://colab.research.google.com/notebooks/data_table.ipynb>data table notebook</a>'\n",
              "            + ' to learn more about interactive tables.';\n",
              "          element.innerHTML = '';\n",
              "          dataTable['output_type'] = 'display_data';\n",
              "          await google.colab.output.renderOutput(dataTable, element);\n",
              "          const docLink = document.createElement('div');\n",
              "          docLink.innerHTML = docLinkHtml;\n",
              "          element.appendChild(docLink);\n",
              "        }\n",
              "      </script>\n",
              "    </div>\n",
              "  </div>\n",
              "  "
            ]
          },
          "metadata": {},
          "execution_count": 23
        }
      ],
      "source": [
        "xtrain.head()"
      ]
    },
    {
      "cell_type": "code",
      "execution_count": 24,
      "id": "ec8934c4",
      "metadata": {
        "id": "ec8934c4"
      },
      "outputs": [],
      "source": [
        "BATCH_SIZE = 32\n",
        "\n",
        "#train\n",
        "train_feature = tf.data.Dataset.from_tensor_slices(xtrain)\n",
        "train_label = tf.data.Dataset.from_tensor_slices(ytrain)\n",
        "#test\n",
        "test_feature = tf.data.Dataset.from_tensor_slices(xtest)\n",
        "test_label = tf.data.Dataset.from_tensor_slices(ytest)\n",
        "#val\n",
        "val_feature = tf.data.Dataset.from_tensor_slices(xval)\n",
        "val_label = tf.data.Dataset.from_tensor_slices(yval)"
      ]
    },
    {
      "cell_type": "code",
      "execution_count": 25,
      "id": "d4504403",
      "metadata": {
        "colab": {
          "base_uri": "https://localhost:8080/"
        },
        "id": "d4504403",
        "outputId": "2986cb9e-30e1-462f-bda8-919333e62b91"
      },
      "outputs": [
        {
          "output_type": "stream",
          "name": "stdout",
          "text": [
            "tf.Tensor([b'stinks I tried to set this up on my system and failed. I called the customere service center and spent two hours, they failed. I had a visit by a local tech who can fix anything, he failed. Why they sell the product is a deep question that ranks up there with why we exist.'], shape=(1,), dtype=string)\n"
          ]
        }
      ],
      "source": [
        "for i in train_feature.take(1):\n",
        "    print(i)\n",
        "    break"
      ]
    },
    {
      "cell_type": "code",
      "execution_count": 26,
      "id": "cd6e6900",
      "metadata": {
        "colab": {
          "base_uri": "https://localhost:8080/"
        },
        "id": "cd6e6900",
        "outputId": "5d6abcfe-a1b5-444f-e61b-3b9d69e2c863"
      },
      "outputs": [
        {
          "output_type": "stream",
          "name": "stdout",
          "text": [
            "tf.Tensor(0, shape=(), dtype=int8)\n"
          ]
        }
      ],
      "source": [
        "for i in train_label.take(1):\n",
        "    print(i)\n",
        "    break"
      ]
    },
    {
      "cell_type": "code",
      "execution_count": 27,
      "id": "af6ab310",
      "metadata": {
        "id": "af6ab310"
      },
      "outputs": [],
      "source": [
        "BATCH_SIZE = 16\n",
        "train_dataset = tf.data.Dataset.zip((train_feature, train_label))\n",
        "train_dataset = train_dataset.batch(BATCH_SIZE).prefetch(tf.data.AUTOTUNE)\n",
        "\n",
        "test_dataset = tf.data.Dataset.zip((test_feature, test_label))\n",
        "test_dataset = test_dataset.batch(BATCH_SIZE).prefetch(tf.data.AUTOTUNE)\n",
        "\n",
        "val_dataset = tf.data.Dataset.zip((val_feature, val_label))\n",
        "val_dataset = val_dataset.batch(BATCH_SIZE).prefetch(tf.data.AUTOTUNE)"
      ]
    },
    {
      "cell_type": "code",
      "execution_count": 28,
      "id": "JqBZ_Wey4q-w",
      "metadata": {
        "id": "JqBZ_Wey4q-w"
      },
      "outputs": [],
      "source": [
        "del(train_feature, train_label, test_feature, test_label, val_feature, val_label) # deleting variables to keep the memory free"
      ]
    },
    {
      "cell_type": "code",
      "execution_count": 29,
      "id": "67c1c1e7",
      "metadata": {
        "colab": {
          "base_uri": "https://localhost:8080/"
        },
        "id": "67c1c1e7",
        "outputId": "1b12c1eb-733a-4908-a6c1-c1f7eadf7fb7"
      },
      "outputs": [
        {
          "output_type": "stream",
          "name": "stdout",
          "text": [
            "len train dataset:  213532\n",
            "len test dataset:  225\n",
            "len val dataset:  11239\n"
          ]
        }
      ],
      "source": [
        "print('len train dataset: ', len(train_dataset))\n",
        "print('len test dataset: ', len(test_dataset))\n",
        "print('len val dataset: ', len(val_dataset))"
      ]
    },
    {
      "cell_type": "markdown",
      "id": "07f71ed4",
      "metadata": {
        "id": "07f71ed4"
      },
      "source": [
        "# Model:0 (Naive bayes model)"
      ]
    },
    {
      "cell_type": "code",
      "execution_count": 30,
      "id": "a84f9490",
      "metadata": {
        "id": "a84f9490"
      },
      "outputs": [],
      "source": [
        "model0 = Pipeline([\n",
        "    ('tfidf',TfidfVectorizer()),\n",
        "    ('multino',MultinomialNB())\n",
        "])"
      ]
    },
    {
      "cell_type": "code",
      "execution_count": 31,
      "id": "64586ad7",
      "metadata": {
        "colab": {
          "base_uri": "https://localhost:8080/"
        },
        "id": "64586ad7",
        "outputId": "e6349d32-6f9c-4e41-c762-4ddd78421415"
      },
      "outputs": [
        {
          "output_type": "stream",
          "name": "stdout",
          "text": [
            "CPU times: user 0 ns, sys: 17 µs, total: 17 µs\n",
            "Wall time: 20.5 µs\n"
          ]
        }
      ],
      "source": [
        "%%time\n",
        "#fit and predict\n",
        "# model0.fit(xtrain['review'], ytrain)"
      ]
    },
    {
      "cell_type": "code",
      "execution_count": 32,
      "id": "8c0e8c64",
      "metadata": {
        "id": "8c0e8c64"
      },
      "outputs": [],
      "source": [
        "# pred0 = model0.predict(xtest['review'])\n",
        "\n",
        "# print(pred0.shape ==  ytest.shape)\n",
        "# print('pred00.shape: ',pred0.shape)\n",
        "# print('ytest.shape: ',ytest.shape)\n",
        "\n",
        "# model0_res = calculate_results(y_true=ytest, y_pred=pred0, model_name='model0: naive bayes')\n",
        "# print(model0_res)"
      ]
    },
    {
      "cell_type": "code",
      "execution_count": 33,
      "id": "24413776",
      "metadata": {
        "id": "24413776"
      },
      "outputs": [],
      "source": [
        "# preditions on texts is more accurate than titles, simply because there is more words and combinations which describes the sentiments better."
      ]
    },
    {
      "cell_type": "code",
      "execution_count": 34,
      "id": "7058f66c",
      "metadata": {
        "id": "7058f66c"
      },
      "outputs": [],
      "source": [
        "# all_result =add_to_big_result(model0_res)"
      ]
    },
    {
      "cell_type": "markdown",
      "id": "ed25181b",
      "metadata": {
        "id": "ed25181b"
      },
      "source": [
        "# Text vectorization"
      ]
    },
    {
      "cell_type": "code",
      "execution_count": 35,
      "id": "8a023364",
      "metadata": {
        "id": "8a023364"
      },
      "outputs": [],
      "source": [
        "# MAX_TOKEN = 1_00_00\n",
        "# OUTPUT_SEQUENCE_LENGTH = 200  # limiting reviews to 200 words"
      ]
    },
    {
      "cell_type": "code",
      "execution_count": 36,
      "id": "7298be63",
      "metadata": {
        "id": "7298be63"
      },
      "outputs": [],
      "source": [
        "# text_vectorizer = TextVectorization(max_tokens=MAX_TOKEN, standardize='lower_and_strip_punctuation',\n",
        "#                                    split='whitespace',\n",
        "#                                     ngrams= None ,\n",
        "#                                     output_mode='int',\n",
        "#                                     output_sequence_length=OUTPUT_SEQUENCE_LENGTH, \n",
        "#                                     pad_to_max_tokens=False)"
      ]
    },
    {
      "cell_type": "code",
      "execution_count": 37,
      "id": "f3e38d4f",
      "metadata": {
        "id": "f3e38d4f"
      },
      "outputs": [],
      "source": [
        "# %%time\n",
        "# #adapting to training data\n",
        "# print(\"cell takes: \")\n",
        "# text_vectorizer.adapt(train_feature)\n",
        "\n",
        "# random_review = df['review'].sample(n = 1).values\n",
        "# print('random Review: ', random_review)\n",
        "# print('random Review length: ', len(random_review))\n",
        "# print('-------\\n')\n",
        "# print('vectorized review: ',text_vectorizer(random_review))\n",
        "# print('-------\\n')\n",
        "# print('Vocabulary_length: ',len(text_vectorizer.get_vocabulary()))\n",
        "# print('Most frequent words: ',text_vectorizer.get_vocabulary()[:10])\n",
        "# print('least frequent words: ',text_vectorizer.get_vocabulary()[-10:])"
      ]
    },
    {
      "cell_type": "markdown",
      "id": "d3f2c5d8",
      "metadata": {
        "id": "d3f2c5d8"
      },
      "source": [
        "# Embedding"
      ]
    },
    {
      "cell_type": "code",
      "execution_count": 38,
      "id": "4cac4f8d",
      "metadata": {
        "id": "4cac4f8d"
      },
      "outputs": [],
      "source": [
        "# embedding = Embedding(input_dim = MAX_TOKEN,output_dim= 32, mask_zero=True, input_length=OUTPUT_SEQUENCE_LENGTH)\n",
        "# print('Embedded text vectorized random sentence: ',embedding(text_vectorizer(random_review)))"
      ]
    },
    {
      "cell_type": "markdown",
      "id": "849fff07",
      "metadata": {
        "id": "849fff07"
      },
      "source": [
        "# Model1"
      ]
    },
    {
      "cell_type": "code",
      "execution_count": 39,
      "id": "c847589e",
      "metadata": {
        "id": "c847589e"
      },
      "outputs": [],
      "source": [
        "# inputs  = keras.Input(shape= (1), dtype = tf.string)\n",
        "# vectorizer_layer  = text_vectorizer(inputs)\n",
        "# embedding_layer  = embedding(vectorizer_layer)\n",
        "\n",
        "# x = LSTM(16, return_sequences=True)(embedding_layer)\n",
        "# # x = LSTM(32, return_sequences=True)(x)\n",
        "# x = LSTM(16)(x)\n",
        "# x = Dropout(.4)(x)\n",
        "# x = Dense(64, activation='relu')(x)\n",
        "# outputs = Dense(1, activation = 'sigmoid')(x)\n",
        "\n",
        "# #building model\n",
        "# model1 = keras.Model(inputs = inputs, outputs = outputs, name = 'model1_lstm')\n",
        "\n",
        "# #compiling model\n",
        "# model1.compile(loss = keras.losses.binary_crossentropy,\n",
        "#               optimizer = keras.optimizers.Adam(),\n",
        "#               metrics = ['accuracy'])"
      ]
    },
    {
      "cell_type": "code",
      "execution_count": 40,
      "id": "a76eff94",
      "metadata": {
        "id": "a76eff94"
      },
      "outputs": [],
      "source": [
        "# EPOCHS = 5\n",
        "# print(len(train_dataset), len(val_dataset))"
      ]
    },
    {
      "cell_type": "code",
      "execution_count": 41,
      "id": "ba48c155",
      "metadata": {
        "id": "ba48c155",
        "scrolled": true
      },
      "outputs": [],
      "source": [
        "# %%time\n",
        "\n",
        "#fit the model\n",
        "# history1 = model1.fit(train_dataset, epochs = EPOCHS, \n",
        "#                       validation_data= val_dataset, \n",
        "#                       steps_per_epoch=int(.1*(len(train_dataset) / EPOCHS)),\n",
        "#                       validation_steps=int(.1*(len(val_dataset) / EPOCHS)))"
      ]
    },
    {
      "cell_type": "code",
      "execution_count": 42,
      "id": "1928d1cf",
      "metadata": {
        "cellView": "form",
        "id": "1928d1cf"
      },
      "outputs": [],
      "source": [
        "#@title Plot history function\n",
        "def plot_history1(history, plot = ['loss','accuracy'], split = ['train','val'], epoch:int = None, figsize = (20,10),colors = ['r','b'], **plot_kwargs ):\n",
        "    \n",
        "    ''' Plots History\n",
        "\n",
        "    Arguments:\n",
        "    ###############\n",
        "    histroy \t:\tHistory to plot\n",
        "    plot:list\t:   what to plot (what metrics you want to compare)  -> ['loss', 'accuracy']  \n",
        "    split:list  :   what split to compare -> ['train', 'val']\n",
        "    epoch:int   :   for how many epochs to comapre (cannot be greater than highest epoch of histories)\n",
        "    figsize:tuple:  size of plot\n",
        "    plot_kwargs :   kwargs to plt.plot to customize plot\n",
        "\n",
        "    Returns:\n",
        "    ##############\n",
        "    Plots history \n",
        "\n",
        "    '''\n",
        "\n",
        "    try:\n",
        "        import matplotlib as mpl\n",
        "        mpl.rcParams['figure.dpi'] = 500\n",
        "        \n",
        "        if not len(colors) == len(split):\n",
        "            raise ValueError('not enogh colors')\n",
        "        \n",
        "        cols = []\n",
        "        for i in plot:\n",
        "            for j in split:\n",
        "                if j == 'val':\n",
        "                    cols.append(j+'_'+i)\n",
        "                else:\n",
        "                    cols.append(i)\n",
        "        \n",
        "        #compare to epoch\n",
        "        if epoch is None:\n",
        "            epoch = history.epoch\n",
        "\n",
        "        def display(col, plot_num, history, epoch:int = None,label = None, **plot_kwargs):\n",
        "            plt.subplot(len(plot),len(split),plot_num)\n",
        "            plt.grid(True)\n",
        "            \n",
        "            if epoch == None:\n",
        "                epoch = history.epoch\n",
        "            \n",
        "            if label is None:\n",
        "                label=history.model.name\n",
        "                \n",
        "            plt.plot(epoch, pd.DataFrame(history.history)[col], label=label, **plot_kwargs)\n",
        "            plt.title((' '.join(col.split('_'))).upper())\n",
        "            plt.xlabel('epochs')\n",
        "            plt.legend()\n",
        "        \n",
        "        plt.figure(figsize = figsize)\n",
        "        plot_title = \" \".join(plot).upper()+\" PLOT\"\n",
        "        plt.suptitle(plot_title)\n",
        "\n",
        "        for plot_num,col in enumerate(plot,1):\n",
        "            display(col, plot_num, history, epoch, label = 'train',color = colors[0], **plot_kwargs)\n",
        "            if 'val' in split:\n",
        "                display('val_'+col, plot_num, history, epoch,label = 'val' ,color = colors[1])\n",
        "    except Exception as e:\n",
        "        print('Error Occured: ',e)\n"
      ]
    },
    {
      "cell_type": "code",
      "execution_count": 43,
      "id": "863cb15c",
      "metadata": {
        "id": "863cb15c"
      },
      "outputs": [],
      "source": [
        "#plot history\n",
        "# plot_history1(history1, plot=['loss','accuracy'], figsize=(15,5))"
      ]
    },
    {
      "cell_type": "markdown",
      "id": "4a20bc95",
      "metadata": {
        "id": "4a20bc95"
      },
      "source": [
        "#### Evaluation"
      ]
    },
    {
      "cell_type": "code",
      "execution_count": 44,
      "id": "d7621b8d",
      "metadata": {
        "id": "d7621b8d"
      },
      "outputs": [],
      "source": [
        "# ypred1 = tf.squeeze(tf.round(model1.predict(xtest)))\n",
        "# print('ypred1.shape: ',ypred1.shape)\n",
        "\n",
        "# model1_res = calculate_results(ytest,ypred1, model_name='model1: LSTM', discription = 'small lstm model with vectorizer and embedding layer')\n",
        "# print(model1_res)\n",
        "\n",
        "## adding result to all_result \n",
        "# all_result = add_to_big_result(model1_res)"
      ]
    },
    {
      "cell_type": "markdown",
      "id": "c8cc4a52",
      "metadata": {
        "id": "c8cc4a52"
      },
      "source": [
        "#### saving the model"
      ]
    },
    {
      "cell_type": "code",
      "execution_count": 45,
      "id": "486f4c5b",
      "metadata": {
        "id": "486f4c5b"
      },
      "outputs": [],
      "source": [
        "# model2.save('./drive/MyDrive/amazon_review/saved_models/model2_lstm_use_layer.tf', save_format='tf')"
      ]
    },
    {
      "cell_type": "code",
      "execution_count": 46,
      "id": "961af382",
      "metadata": {
        "id": "961af382"
      },
      "outputs": [],
      "source": [
        "#load the saved model\n",
        "# model1_loaded = keras.models.load_model('./saved_models/model1_lstm.tf')"
      ]
    },
    {
      "cell_type": "code",
      "execution_count": 47,
      "id": "d4bee255",
      "metadata": {
        "id": "d4bee255"
      },
      "outputs": [],
      "source": [
        "# ypred11 = tf.squeeze(tf.round(model1_loaded.predict(xtest)))\n",
        "# model11_res = calculate_results(ytest,ypred11, model_name='model1: LSTM loaded')\n",
        "# print(model11_res)\n",
        "# all_result = add_to_big_result(model11_res)"
      ]
    },
    {
      "cell_type": "markdown",
      "id": "c9880352",
      "metadata": {
        "id": "c9880352"
      },
      "source": [
        "# Model2"
      ]
    },
    {
      "cell_type": "code",
      "execution_count": 48,
      "id": "c493fe37",
      "metadata": {
        "colab": {
          "base_uri": "https://localhost:8080/"
        },
        "id": "c493fe37",
        "outputId": "3b35917e-cd54-465d-c3d3-c6662f10083e"
      },
      "outputs": [
        {
          "output_type": "stream",
          "name": "stdout",
          "text": [
            "(None, 512)\n",
            "(None, 1, 512)\n"
          ]
        }
      ],
      "source": [
        "inputs = keras.Input(shape = [], dtype = 'string')\n",
        "use_layer = embed(inputs)\n",
        "print(use_layer.shape)\n",
        "use_layer = tf.expand_dims(use_layer, axis = 1)\n",
        "print(use_layer.shape) \n",
        "x = LSTM(32, return_sequences=True)(use_layer)\n",
        "# x = LSTM(32, return_sequences=True)(x)\n",
        "x = LSTM(16)(x)\n",
        "x = Dropout(.4)(x)\n",
        "x = Dense(64, activation='relu')(x)\n",
        "outputs = Dense(1, activation = 'sigmoid')(x)\n",
        "\n",
        "#building model\n",
        "model2 = keras.Model(inputs = inputs, outputs = outputs, name = 'model2_use_layer')\n",
        "\n",
        "#compiling model\n",
        "model2.compile(loss = keras.losses.binary_crossentropy,\n",
        "              optimizer = keras.optimizers.Adam(),\n",
        "              metrics = ['accuracy'])"
      ]
    },
    {
      "cell_type": "code",
      "execution_count": 49,
      "id": "9d457c6f",
      "metadata": {
        "id": "9d457c6f"
      },
      "outputs": [],
      "source": [
        "# from funcyou.callbacks import create_model_checkpoint\n",
        "def create_model_checkpoint(model_name, save_dir, monitor:str = 'val_loss',verbose: int = 0, save_best_only: bool = True, save_weights_only: bool = False,\n",
        "                            mode: str = 'auto', save_freq='epoch', options=None, initial_value_threshold=None, **kwargs):\n",
        "    model_name = model_name+'-'+ str(datetime.datetime.now())\n",
        "    dir = os.path.join(save_dir, model_name)\n",
        "\n",
        "    if not os.path.exists(dir):\n",
        "        os.makedirs(dir)\n",
        "\n",
        "    return tf.keras.callbacks.ModelCheckpoint(\n",
        "                                                dir,\n",
        "                                                monitor = monitor,\n",
        "                                                verbose = verbose,\n",
        "                                                save_best_only = save_best_only,\n",
        "                                                save_weights_only = save_weights_only,\n",
        "                                                mode = mode,\n",
        "                                                save_freq = save_freq,\n",
        "                                                options=options,\n",
        "                                                initial_value_threshold = initial_value_threshold,\n",
        "                                                **kwargs)\n"
      ]
    },
    {
      "cell_type": "code",
      "execution_count": 50,
      "id": "5cd56b05",
      "metadata": {
        "id": "5cd56b05"
      },
      "outputs": [],
      "source": [
        "EPOCHS = 100\n",
        "print(len(train_dataset), len(val_dataset))"
      ]
    },
    {
      "cell_type": "code",
      "execution_count": 51,
      "id": "9S57Eof77O_Z",
      "metadata": {
        "id": "9S57Eof77O_Z"
      },
      "outputs": [],
      "source": [
        "# del(train_dataset, test_dataset, val_dataset)"
      ]
    },
    {
      "cell_type": "code",
      "execution_count": 52,
      "id": "d7200cc9",
      "metadata": {
        "id": "d7200cc9",
        "scrolled": true
      },
      "outputs": [],
      "source": [
        "# %%time\n",
        "# #fit the model\n",
        "# history2 = model2.fit(train_dataset, epochs = EPOCHS, \n",
        "#                       validation_data= val_dataset, \n",
        "#                       steps_per_epoch=int((len(train_dataset) / EPOCHS)),\n",
        "#                       validation_steps=int(1*(len(val_dataset) / EPOCHS)),\n",
        "#                       callbacks = [\n",
        "#                                     create_model_checkpoint(model_name = 'model2:use_lstm', \n",
        "#                                     save_dir = '/content/drive/MyDrive/amazon_review/', \n",
        "#                                     monitor = 'val_accuracy',\n",
        "#                                     save_best_only = True, \n",
        "#                                     save_weights_only = True,\n",
        "#                                         mode= 'auto', save_freq='epoch')]\n",
        "#                       )"
      ]
    },
    {
      "cell_type": "code",
      "execution_count": 53,
      "id": "7d804996",
      "metadata": {
        "id": "7d804996"
      },
      "outputs": [],
      "source": [
        "# plot_history\n",
        "# plot_history1(history2, plot=['loss','accuracy'], figsize=(15,5))"
      ]
    },
    {
      "cell_type": "code",
      "execution_count": 54,
      "id": "2sifKPOGCHX9",
      "metadata": {
        "id": "2sifKPOGCHX9",
        "outputId": "05024040-1064-48c5-acae-c9766052264d",
        "colab": {
          "base_uri": "https://localhost:8080/",
          "height": 328
        }
      },
      "outputs": [
        {
          "output_type": "error",
          "ename": "NotFoundError",
          "evalue": "ignored",
          "traceback": [
            "\u001b[0;31m---------------------------------------------------------------------------\u001b[0m",
            "\u001b[0;31mNotFoundError\u001b[0m                             Traceback (most recent call last)",
            "\u001b[0;32m<ipython-input-54-05ba29efe73e>\u001b[0m in \u001b[0;36m<module>\u001b[0;34m\u001b[0m\n\u001b[0;32m----> 1\u001b[0;31m \u001b[0mmodel2\u001b[0m\u001b[0;34m.\u001b[0m\u001b[0mload_weights\u001b[0m\u001b[0;34m(\u001b[0m\u001b[0;34m'./amazon_review-20221127T193218Z-001/amazon_review/model2_use_lstm-2022-11-27 06_40_52.876175'\u001b[0m\u001b[0;34m)\u001b[0m\u001b[0;34m\u001b[0m\u001b[0;34m\u001b[0m\u001b[0m\n\u001b[0m",
            "\u001b[0;32m/usr/local/lib/python3.8/dist-packages/keras/utils/traceback_utils.py\u001b[0m in \u001b[0;36merror_handler\u001b[0;34m(*args, **kwargs)\u001b[0m\n\u001b[1;32m     65\u001b[0m     \u001b[0;32mexcept\u001b[0m \u001b[0mException\u001b[0m \u001b[0;32mas\u001b[0m \u001b[0me\u001b[0m\u001b[0;34m:\u001b[0m  \u001b[0;31m# pylint: disable=broad-except\u001b[0m\u001b[0;34m\u001b[0m\u001b[0;34m\u001b[0m\u001b[0m\n\u001b[1;32m     66\u001b[0m       \u001b[0mfiltered_tb\u001b[0m \u001b[0;34m=\u001b[0m \u001b[0m_process_traceback_frames\u001b[0m\u001b[0;34m(\u001b[0m\u001b[0me\u001b[0m\u001b[0;34m.\u001b[0m\u001b[0m__traceback__\u001b[0m\u001b[0;34m)\u001b[0m\u001b[0;34m\u001b[0m\u001b[0;34m\u001b[0m\u001b[0m\n\u001b[0;32m---> 67\u001b[0;31m       \u001b[0;32mraise\u001b[0m \u001b[0me\u001b[0m\u001b[0;34m.\u001b[0m\u001b[0mwith_traceback\u001b[0m\u001b[0;34m(\u001b[0m\u001b[0mfiltered_tb\u001b[0m\u001b[0;34m)\u001b[0m \u001b[0;32mfrom\u001b[0m \u001b[0;32mNone\u001b[0m\u001b[0;34m\u001b[0m\u001b[0;34m\u001b[0m\u001b[0m\n\u001b[0m\u001b[1;32m     68\u001b[0m     \u001b[0;32mfinally\u001b[0m\u001b[0;34m:\u001b[0m\u001b[0;34m\u001b[0m\u001b[0;34m\u001b[0m\u001b[0m\n\u001b[1;32m     69\u001b[0m       \u001b[0;32mdel\u001b[0m \u001b[0mfiltered_tb\u001b[0m\u001b[0;34m\u001b[0m\u001b[0;34m\u001b[0m\u001b[0m\n",
            "\u001b[0;32m/usr/local/lib/python3.8/dist-packages/tensorflow/python/training/py_checkpoint_reader.py\u001b[0m in \u001b[0;36merror_translator\u001b[0;34m(e)\u001b[0m\n\u001b[1;32m     29\u001b[0m       \u001b[0;34m'Failed to find any '\u001b[0m\u001b[0;34m\u001b[0m\u001b[0;34m\u001b[0m\u001b[0m\n\u001b[1;32m     30\u001b[0m       'matching files for') in error_message:\n\u001b[0;32m---> 31\u001b[0;31m     \u001b[0;32mraise\u001b[0m \u001b[0merrors_impl\u001b[0m\u001b[0;34m.\u001b[0m\u001b[0mNotFoundError\u001b[0m\u001b[0;34m(\u001b[0m\u001b[0;32mNone\u001b[0m\u001b[0;34m,\u001b[0m \u001b[0;32mNone\u001b[0m\u001b[0;34m,\u001b[0m \u001b[0merror_message\u001b[0m\u001b[0;34m)\u001b[0m\u001b[0;34m\u001b[0m\u001b[0;34m\u001b[0m\u001b[0m\n\u001b[0m\u001b[1;32m     32\u001b[0m   elif 'Sliced checkpoints are not supported' in error_message or (\n\u001b[1;32m     33\u001b[0m       \u001b[0;34m'Data type '\u001b[0m\u001b[0;34m\u001b[0m\u001b[0;34m\u001b[0m\u001b[0m\n",
            "\u001b[0;31mNotFoundError\u001b[0m: Unsuccessful TensorSliceReader constructor: Failed to find any matching files for ./amazon_review-20221127T193218Z-001/amazon_review/model2_use_lstm-2022-11-27 06_40_52.876175"
          ]
        }
      ],
      "source": [
        "model2.load_weights('./amazon_review-20221127T193218Z-001/amazon_review/model2_use_lstm-2022-11-27 06_40_52.876175')"
      ]
    },
    {
      "cell_type": "markdown",
      "id": "2401f31a",
      "metadata": {
        "id": "2401f31a"
      },
      "source": [
        "#### Evaluation"
      ]
    },
    {
      "cell_type": "code",
      "execution_count": null,
      "id": "36a15ff1",
      "metadata": {
        "id": "36a15ff1"
      },
      "outputs": [],
      "source": [
        "ypred2 = tf.squeeze(tf.round(model2.predict(test_dataset,\n",
        "                                            use_multiprocessing=True)))\n",
        "print('ypred2.shape: ',ypred2.shape)\n",
        "\n",
        "ytest_true = [y for x,y in test_dataset.unbatch()]\n",
        "print('ypred2.shape: ',len(ytest_true))\n",
        "\n",
        "model2_res = calculate_results(np.array(ytest_true),ypred2, model_name='model2: use layer lstm')\n",
        "print('model2_res: ',model2_res)\n",
        "\n",
        "all_result = add_to_big_result(model2_res)"
      ]
    },
    {
      "cell_type": "code",
      "execution_count": null,
      "id": "7KSp4D2REBKv",
      "metadata": {
        "id": "7KSp4D2REBKv"
      },
      "outputs": [],
      "source": []
    },
    {
      "cell_type": "code",
      "execution_count": null,
      "id": "Msk2u4kXDl2U",
      "metadata": {
        "id": "Msk2u4kXDl2U"
      },
      "outputs": [],
      "source": []
    },
    {
      "cell_type": "markdown",
      "id": "c27e488d",
      "metadata": {
        "id": "c27e488d"
      },
      "source": [
        "# Model3: Conv1D"
      ]
    },
    {
      "cell_type": "code",
      "execution_count": null,
      "id": "UVCl0QMIFAgO",
      "metadata": {
        "id": "UVCl0QMIFAgO"
      },
      "outputs": [],
      "source": [
        "inputs = layers.Input(shape=(1,), dtype = 'string')\n",
        "vect_layer = text_vectorizer(inputs)\n",
        "embed_layer = embed(vect_layer)\n",
        "x = layers.Conv1D(64,3,1,padding = 'same',activation = 'relu')(embed_layer)\n",
        "# x = layers.BatchNormalization()(x)\n",
        "# x = layers.MaxPooling1D()(x)\n",
        "x = layers.GlobalMaxPool1D()(x)\n",
        "outputs = layers.Dense(5, activation = 'softmax')(x)\n",
        "\n",
        "\n",
        "inputs = keras.Input(shape = [], dtype = 'string')\n",
        "use_layer = embed(inputs)\n",
        "print(use_layer.shape)\n",
        "use_layer = tf.expand_dims(use_layer, axis = 1)\n",
        "print(use_layer.shape) \n",
        "x = LSTM(32, return_sequences=True)(use_layer)\n",
        "# x = LSTM(32, return_sequences=True)(x)\n",
        "x = LSTM(16)(x)\n",
        "x = Dropout(.4)(x)\n",
        "x = Dense(64, activation='relu')(x)\n",
        "outputs = Dense(1, activation = 'sigmoid')(x)\n",
        "\n",
        "#building model\n",
        "model2 = keras.Model(inputs = inputs, outputs = outputs, name = 'model2_use_layer')\n",
        "\n",
        "#compiling model\n",
        "model2.compile(loss = keras.losses.binary_crossentropy,\n",
        "              optimizer = keras.optimizers.Adam(),\n",
        "              metrics = ['accuracy'])"
      ]
    }
  ],
  "metadata": {
    "colab": {
      "provenance": []
    },
    "gpuClass": "standard",
    "kernelspec": {
      "display_name": "tf_new",
      "language": "python",
      "name": "tf_new"
    },
    "language_info": {
      "codemirror_mode": {
        "name": "ipython",
        "version": 3
      },
      "file_extension": ".py",
      "mimetype": "text/x-python",
      "name": "python",
      "nbconvert_exporter": "python",
      "pygments_lexer": "ipython3",
      "version": "3.9.16"
    }
  },
  "nbformat": 4,
  "nbformat_minor": 5
}